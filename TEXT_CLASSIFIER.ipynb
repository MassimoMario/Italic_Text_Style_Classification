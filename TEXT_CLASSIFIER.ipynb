{
 "cells": [
  {
   "cell_type": "code",
   "execution_count": 1,
   "metadata": {},
   "outputs": [],
   "source": [
    "import numpy as np\n",
    "from tqdm import tqdm\n",
    "import matplotlib.pyplot as plt\n",
    "import torch\n",
    "import torch.nn as nn\n",
    "from torch.nn import functional as F\n",
    "from torch.utils.data import DataLoader,TensorDataset\n",
    "from gensim.models import Word2Vec\n",
    "from models import CNNClassifier, RNNClassifier, GRUClassifier, LSTMClassifier, TClassifier\n",
    "from training_function import training\n",
    "from config_dataset import custom_dataset\n",
    "from accuracy import classifier_accuracy"
   ]
  },
  {
   "cell_type": "code",
   "execution_count": 2,
   "metadata": {},
   "outputs": [],
   "source": [
    "device = torch.device(\"cuda\" if torch.cuda.is_available() else \"cpu\")"
   ]
  },
  {
   "cell_type": "code",
   "execution_count": 3,
   "metadata": {},
   "outputs": [],
   "source": [
    "sequence_length = 20\n",
    "batch_size = 32\n",
    "embedding_dim = 300\n",
    "hidden_dim = 8"
   ]
  },
  {
   "cell_type": "code",
   "execution_count": 4,
   "metadata": {},
   "outputs": [
    {
     "name": "stdout",
     "output_type": "stream",
     "text": [
      "len train loader:  633\n",
      "len val loader:  80\n",
      "total number of training samples:  20246\n",
      "total number of validation samples:  2529\n",
      "vocab size:  26606\n"
     ]
    }
   ],
   "source": [
    "train_loader, val_loader, embedding_dim, embedding_matrix, word2vec, idx2word, word2idx, vocab_size, style0_test, style1_test, style2_test = custom_dataset('text_corpus/divina_commedia.txt',\n",
    "                                                                                                                                                        'text_corpus/uno_nessuno_e_i_malavoglia.txt',\n",
    "                                                                                                                                                        'text_corpus/lo_cunto_de_li_cunti.txt',\n",
    "                                                                                                                                                        sequence_length,\n",
    "                                                                                                                                                        embedding_dim,\n",
    "                                                                                                                                                        batch_size,\n",
    "                                                                                                                                                        0.8)\n",
    "print('len train loader: ', len(train_loader))\n",
    "print('len val loader: ', len(val_loader))\n",
    "print('total number of training samples: ', len(train_loader.dataset))\n",
    "print('total number of validation samples: ', len(val_loader.dataset))\n",
    "print('vocab size: ', vocab_size)"
   ]
  },
  {
   "cell_type": "markdown",
   "metadata": {},
   "source": [
    "# CNN Classifier"
   ]
  },
  {
   "cell_type": "code",
   "execution_count": 6,
   "metadata": {},
   "outputs": [],
   "source": [
    "cnn_classifier = CNNClassifier(embedding_matrix, 3, 3, [3,3,3])"
   ]
  },
  {
   "cell_type": "code",
   "execution_count": 7,
   "metadata": {},
   "outputs": [
    {
     "name": "stdout",
     "output_type": "stream",
     "text": [
      "# Parameters:  8139\n"
     ]
    }
   ],
   "source": [
    "classifier_params = sum(p.numel() for p in cnn_classifier.parameters() if p.requires_grad)\n",
    "print('# Parameters: ', classifier_params)"
   ]
  },
  {
   "cell_type": "code",
   "execution_count": 8,
   "metadata": {},
   "outputs": [
    {
     "name": "stderr",
     "output_type": "stream",
     "text": [
      " 12%|█▎        | 1/8 [00:02<00:18,  2.67s/it]"
     ]
    },
    {
     "name": "stdout",
     "output_type": "stream",
     "text": [
      "====> Epoch: 1 Average train loss: 0.0197, Average val loss: 0.0181\n"
     ]
    },
    {
     "name": "stderr",
     "output_type": "stream",
     "text": [
      " 25%|██▌       | 2/8 [00:05<00:15,  2.67s/it]"
     ]
    },
    {
     "name": "stdout",
     "output_type": "stream",
     "text": [
      "====> Epoch: 2 Average train loss: 0.0178, Average val loss: 0.0180\n"
     ]
    },
    {
     "name": "stderr",
     "output_type": "stream",
     "text": [
      " 38%|███▊      | 3/8 [00:08<00:13,  2.77s/it]"
     ]
    },
    {
     "name": "stdout",
     "output_type": "stream",
     "text": [
      "====> Epoch: 3 Average train loss: 0.0176, Average val loss: 0.0179\n"
     ]
    },
    {
     "name": "stderr",
     "output_type": "stream",
     "text": [
      " 50%|█████     | 4/8 [00:10<00:10,  2.65s/it]"
     ]
    },
    {
     "name": "stdout",
     "output_type": "stream",
     "text": [
      "====> Epoch: 4 Average train loss: 0.0175, Average val loss: 0.0179\n"
     ]
    },
    {
     "name": "stderr",
     "output_type": "stream",
     "text": [
      " 62%|██████▎   | 5/8 [00:13<00:07,  2.62s/it]"
     ]
    },
    {
     "name": "stdout",
     "output_type": "stream",
     "text": [
      "====> Epoch: 5 Average train loss: 0.0174, Average val loss: 0.0179\n"
     ]
    },
    {
     "name": "stderr",
     "output_type": "stream",
     "text": [
      " 75%|███████▌  | 6/8 [00:16<00:05,  2.68s/it]"
     ]
    },
    {
     "name": "stdout",
     "output_type": "stream",
     "text": [
      "====> Epoch: 6 Average train loss: 0.0174, Average val loss: 0.0179\n"
     ]
    },
    {
     "name": "stderr",
     "output_type": "stream",
     "text": [
      " 88%|████████▊ | 7/8 [00:18<00:02,  2.64s/it]"
     ]
    },
    {
     "name": "stdout",
     "output_type": "stream",
     "text": [
      "====> Epoch: 7 Average train loss: 0.0173, Average val loss: 0.0179\n"
     ]
    },
    {
     "name": "stderr",
     "output_type": "stream",
     "text": [
      "100%|██████████| 8/8 [00:21<00:00,  2.65s/it]"
     ]
    },
    {
     "name": "stdout",
     "output_type": "stream",
     "text": [
      "====> Epoch: 8 Average train loss: 0.0173, Average val loss: 0.0179\n"
     ]
    },
    {
     "name": "stderr",
     "output_type": "stream",
     "text": [
      "\n"
     ]
    },
    {
     "data": {
      "image/png": "[encoded data removed]",
      "text/plain": [
       "<Figure size 640x480 with 1 Axes>"
      ]
     },
     "metadata": {},
     "output_type": "display_data"
    }
   ],
   "source": [
    "train_losses = training(cnn_classifier, train_loader, val_loader, 8, 4e-4, 'CNN Training')"
   ]
  },
  {
   "cell_type": "markdown",
   "metadata": {},
   "source": [
    "### Examples with CNN "
   ]
  },
  {
   "cell_type": "code",
   "execution_count": 9,
   "metadata": {},
   "outputs": [
    {
     "name": "stdout",
     "output_type": "stream",
     "text": [
      "Real Style:  0 ,  Dante\n",
      "Predicted Style:  0 with probability:  57.61169195175171 %\n",
      "Input sequence: \n",
      " que flailli ch avieno spirto sol di pensier santi poscia che i cari e lucidi lapilli ond io vidi ingemmato\n"
     ]
    }
   ],
   "source": [
    "for i ,(data, label) in enumerate(val_loader):\n",
    "    if i == 0:\n",
    "        prova = data[0]\n",
    "        labels = label[0]\n",
    "    else: \n",
    "        break\n",
    "\n",
    "input_sentence = [idx2word[prova[i].item()] for i in range(prova.shape[0])]\n",
    "\n",
    "prova = prova.view(1,prova.shape[0])\n",
    "\n",
    "with torch.no_grad():\n",
    "    pred_label = cnn_classifier(prova)\n",
    "    \n",
    "pred_label = torch.softmax(pred_label, dim = -1)\n",
    "\n",
    "\n",
    "if labels == 0.0:\n",
    "    stile = 'Dante'\n",
    "elif labels == 1.0:\n",
    "    stile = 'Italiano'\n",
    "elif labels == 2.0:\n",
    "    stile = 'Napoletano'\n",
    "\n",
    "\n",
    "pred_style = torch.argmax(pred_label).item()\n",
    "print('Real Style: ', labels.item(), ', ', stile)\n",
    "print('Predicted Style: ', pred_style, 'with probability: ', pred_label[0][0][pred_style].item()*100, '%')\n",
    "print(\"Input sequence: \\n\", ' '.join(input_sentence))"
   ]
  },
  {
   "cell_type": "markdown",
   "metadata": {},
   "source": [
    "# CNN Classifier Accuracy"
   ]
  },
  {
   "cell_type": "code",
   "execution_count": 10,
   "metadata": {},
   "outputs": [
    {
     "name": "stdout",
     "output_type": "stream",
     "text": [
      "Accuracy predicting Dante:  0.9813176007866273\n",
      "Accuracy predicting Italian:  0.992133726647001\n",
      "Accuracy predicting Neapolitan:  0.998\n",
      "Overall  CNN  Accuracy:  0.9904837758112094\n"
     ]
    }
   ],
   "source": [
    "classifier_accuracy(cnn_classifier, style0_test, style1_test, style2_test, 'CNN')"
   ]
  },
  {
   "cell_type": "markdown",
   "metadata": {},
   "source": [
    "# RNN Classifier"
   ]
  },
  {
   "cell_type": "code",
   "execution_count": 11,
   "metadata": {},
   "outputs": [],
   "source": [
    "rnn_classifier = RNNClassifier(embedding_matrix, hidden_dim, 1)"
   ]
  },
  {
   "cell_type": "code",
   "execution_count": 12,
   "metadata": {},
   "outputs": [
    {
     "name": "stdout",
     "output_type": "stream",
     "text": [
      "# Parameters:  3107\n"
     ]
    }
   ],
   "source": [
    "classifier_params = sum(p.numel() for p in rnn_classifier.parameters() if p.requires_grad)\n",
    "print('# Parameters: ', classifier_params)"
   ]
  },
  {
   "cell_type": "code",
   "execution_count": 13,
   "metadata": {},
   "outputs": [
    {
     "name": "stderr",
     "output_type": "stream",
     "text": [
      " 10%|█         | 1/10 [00:01<00:16,  1.83s/it]"
     ]
    },
    {
     "name": "stdout",
     "output_type": "stream",
     "text": [
      "====> Epoch: 1 Average train loss: 0.0290, Average val loss: 0.0249\n"
     ]
    },
    {
     "name": "stderr",
     "output_type": "stream",
     "text": [
      " 20%|██        | 2/10 [00:03<00:13,  1.63s/it]"
     ]
    },
    {
     "name": "stdout",
     "output_type": "stream",
     "text": [
      "====> Epoch: 2 Average train loss: 0.0212, Average val loss: 0.0202\n"
     ]
    },
    {
     "name": "stderr",
     "output_type": "stream",
     "text": [
      " 30%|███       | 3/10 [00:04<00:11,  1.59s/it]"
     ]
    },
    {
     "name": "stdout",
     "output_type": "stream",
     "text": [
      "====> Epoch: 3 Average train loss: 0.0167, Average val loss: 0.0151\n"
     ]
    },
    {
     "name": "stderr",
     "output_type": "stream",
     "text": [
      " 40%|████      | 4/10 [00:06<00:09,  1.56s/it]"
     ]
    },
    {
     "name": "stdout",
     "output_type": "stream",
     "text": [
      "====> Epoch: 4 Average train loss: 0.0118, Average val loss: 0.0095\n"
     ]
    },
    {
     "name": "stderr",
     "output_type": "stream",
     "text": [
      " 50%|█████     | 5/10 [00:08<00:08,  1.77s/it]"
     ]
    },
    {
     "name": "stdout",
     "output_type": "stream",
     "text": [
      "====> Epoch: 5 Average train loss: 0.0072, Average val loss: 0.0083\n"
     ]
    },
    {
     "name": "stderr",
     "output_type": "stream",
     "text": [
      " 60%|██████    | 6/10 [00:10<00:06,  1.70s/it]"
     ]
    },
    {
     "name": "stdout",
     "output_type": "stream",
     "text": [
      "====> Epoch: 6 Average train loss: 0.0052, Average val loss: 0.0058\n"
     ]
    },
    {
     "name": "stderr",
     "output_type": "stream",
     "text": [
      " 70%|███████   | 7/10 [00:11<00:04,  1.62s/it]"
     ]
    },
    {
     "name": "stdout",
     "output_type": "stream",
     "text": [
      "====> Epoch: 7 Average train loss: 0.0043, Average val loss: 0.0047\n"
     ]
    },
    {
     "name": "stderr",
     "output_type": "stream",
     "text": [
      " 80%|████████  | 8/10 [00:13<00:03,  1.58s/it]"
     ]
    },
    {
     "name": "stdout",
     "output_type": "stream",
     "text": [
      "====> Epoch: 8 Average train loss: 0.0036, Average val loss: 0.0068\n"
     ]
    },
    {
     "name": "stderr",
     "output_type": "stream",
     "text": [
      " 90%|█████████ | 9/10 [00:14<00:01,  1.58s/it]"
     ]
    },
    {
     "name": "stdout",
     "output_type": "stream",
     "text": [
      "====> Epoch: 9 Average train loss: 0.0034, Average val loss: 0.0036\n"
     ]
    },
    {
     "name": "stderr",
     "output_type": "stream",
     "text": [
      "100%|██████████| 10/10 [00:16<00:00,  1.62s/it]"
     ]
    },
    {
     "name": "stdout",
     "output_type": "stream",
     "text": [
      "====> Epoch: 10 Average train loss: 0.0033, Average val loss: 0.0038\n"
     ]
    },
    {
     "name": "stderr",
     "output_type": "stream",
     "text": [
      "\n"
     ]
    },
    {
     "data": {
      "image/png": "[encoded data removed]",
      "text/plain": [
       "<Figure size 640x480 with 1 Axes>"
      ]
     },
     "metadata": {},
     "output_type": "display_data"
    }
   ],
   "source": [
    "train_losses = training(rnn_classifier, train_loader, val_loader, 10, 4e-4, 'RNN Training')"
   ]
  },
  {
   "cell_type": "code",
   "execution_count": 14,
   "metadata": {},
   "outputs": [
    {
     "name": "stdout",
     "output_type": "stream",
     "text": [
      "Real Style:  1 ,  Italiano\n",
      "Predicted Style:  1 with probability:  98.74022603034973 %\n",
      "Input sequence: \n",
      " ci veniva più la santuzza toccata nel debole non seppe più contenersi e gli disse che non ci veniva più\n"
     ]
    }
   ],
   "source": [
    "for i ,(data, label) in enumerate(val_loader):\n",
    "    if i == 0:\n",
    "        prova = data[0]\n",
    "        labels = label[0]\n",
    "    else: \n",
    "        break\n",
    "\n",
    "input_sentence = [idx2word[prova[i].item()] for i in range(prova.shape[0])]\n",
    "\n",
    "prova = prova.view(1,prova.shape[0])\n",
    "\n",
    "with torch.no_grad():\n",
    "    pred_label = rnn_classifier(prova)\n",
    "    \n",
    "pred_label = torch.softmax(pred_label, dim = -1)\n",
    "\n",
    "\n",
    "if labels == 0.0:\n",
    "    stile = 'Dante'\n",
    "elif labels == 1.0:\n",
    "    stile = 'Italiano'\n",
    "elif labels == 2.0:\n",
    "    stile = 'Napoletano'\n",
    "\n",
    "\n",
    "pred_style = torch.argmax(pred_label).item()\n",
    "print('Real Style: ', labels.item(), ', ', stile)\n",
    "print('Predicted Style: ', pred_style, 'with probability: ', pred_label[0][0][pred_style].item()*100, '%')\n",
    "print(\"Input sequence: \\n\", ' '.join(input_sentence))"
   ]
  },
  {
   "cell_type": "markdown",
   "metadata": {},
   "source": [
    "# RNN Classifier Accuracy"
   ]
  },
  {
   "cell_type": "code",
   "execution_count": 15,
   "metadata": {},
   "outputs": [
    {
     "name": "stdout",
     "output_type": "stream",
     "text": [
      "Accuracy predicting Dante:  0.9695181907571289\n",
      "Accuracy predicting Italian:  0.976401179941003\n",
      "Accuracy predicting Neapolitan:  0.962\n",
      "Overall  RNN  Accuracy:  0.9693064568993771\n"
     ]
    }
   ],
   "source": [
    "classifier_accuracy(rnn_classifier, style0_test, style1_test, style2_test, 'RNN')"
   ]
  },
  {
   "cell_type": "markdown",
   "metadata": {},
   "source": [
    "# GRU Classifier"
   ]
  },
  {
   "cell_type": "code",
   "execution_count": 16,
   "metadata": {},
   "outputs": [],
   "source": [
    "gru_classifier = GRUClassifier(embedding_matrix, hidden_dim, 1)"
   ]
  },
  {
   "cell_type": "code",
   "execution_count": 17,
   "metadata": {},
   "outputs": [
    {
     "name": "stdout",
     "output_type": "stream",
     "text": [
      "# Parameters:  8067\n"
     ]
    }
   ],
   "source": [
    "classifier_params = sum(p.numel() for p in gru_classifier.parameters() if p.requires_grad)\n",
    "print('# Parameters: ', classifier_params)"
   ]
  },
  {
   "cell_type": "code",
   "execution_count": 18,
   "metadata": {},
   "outputs": [
    {
     "name": "stderr",
     "output_type": "stream",
     "text": [
      " 10%|█         | 1/10 [00:03<00:27,  3.00s/it]"
     ]
    },
    {
     "name": "stdout",
     "output_type": "stream",
     "text": [
      "====> Epoch: 1 Average train loss: 0.0251, Average val loss: 0.0165\n"
     ]
    },
    {
     "name": "stderr",
     "output_type": "stream",
     "text": [
      " 20%|██        | 2/10 [00:06<00:24,  3.02s/it]"
     ]
    },
    {
     "name": "stdout",
     "output_type": "stream",
     "text": [
      "====> Epoch: 2 Average train loss: 0.0106, Average val loss: 0.0071\n"
     ]
    },
    {
     "name": "stderr",
     "output_type": "stream",
     "text": [
      " 30%|███       | 3/10 [00:09<00:21,  3.06s/it]"
     ]
    },
    {
     "name": "stdout",
     "output_type": "stream",
     "text": [
      "====> Epoch: 3 Average train loss: 0.0050, Average val loss: 0.0042\n"
     ]
    },
    {
     "name": "stderr",
     "output_type": "stream",
     "text": [
      " 40%|████      | 4/10 [00:12<00:19,  3.25s/it]"
     ]
    },
    {
     "name": "stdout",
     "output_type": "stream",
     "text": [
      "====> Epoch: 4 Average train loss: 0.0029, Average val loss: 0.0030\n"
     ]
    },
    {
     "name": "stderr",
     "output_type": "stream",
     "text": [
      " 50%|█████     | 5/10 [00:15<00:15,  3.20s/it]"
     ]
    },
    {
     "name": "stdout",
     "output_type": "stream",
     "text": [
      "====> Epoch: 5 Average train loss: 0.0019, Average val loss: 0.0023\n"
     ]
    },
    {
     "name": "stderr",
     "output_type": "stream",
     "text": [
      " 60%|██████    | 6/10 [00:18<00:12,  3.16s/it]"
     ]
    },
    {
     "name": "stdout",
     "output_type": "stream",
     "text": [
      "====> Epoch: 6 Average train loss: 0.0013, Average val loss: 0.0023\n"
     ]
    },
    {
     "name": "stderr",
     "output_type": "stream",
     "text": [
      " 70%|███████   | 7/10 [00:22<00:09,  3.30s/it]"
     ]
    },
    {
     "name": "stdout",
     "output_type": "stream",
     "text": [
      "====> Epoch: 7 Average train loss: 0.0009, Average val loss: 0.0020\n"
     ]
    },
    {
     "name": "stderr",
     "output_type": "stream",
     "text": [
      " 80%|████████  | 8/10 [00:25<00:06,  3.27s/it]"
     ]
    },
    {
     "name": "stdout",
     "output_type": "stream",
     "text": [
      "====> Epoch: 8 Average train loss: 0.0007, Average val loss: 0.0017\n"
     ]
    },
    {
     "name": "stderr",
     "output_type": "stream",
     "text": [
      " 90%|█████████ | 9/10 [00:29<00:03,  3.29s/it]"
     ]
    },
    {
     "name": "stdout",
     "output_type": "stream",
     "text": [
      "====> Epoch: 9 Average train loss: 0.0005, Average val loss: 0.0017\n"
     ]
    },
    {
     "name": "stderr",
     "output_type": "stream",
     "text": [
      "100%|██████████| 10/10 [00:32<00:00,  3.24s/it]"
     ]
    },
    {
     "name": "stdout",
     "output_type": "stream",
     "text": [
      "====> Epoch: 10 Average train loss: 0.0004, Average val loss: 0.0018\n"
     ]
    },
    {
     "name": "stderr",
     "output_type": "stream",
     "text": [
      "\n"
     ]
    },
    {
     "data": {
      "image/png": "[encoded data removed]",
      "text/plain": [
       "<Figure size 640x480 with 1 Axes>"
      ]
     },
     "metadata": {},
     "output_type": "display_data"
    }
   ],
   "source": [
    "train_losses = training(gru_classifier, train_loader, val_loader, 10, 4e-4, 'GRU Training')"
   ]
  },
  {
   "cell_type": "code",
   "execution_count": 19,
   "metadata": {},
   "outputs": [
    {
     "name": "stdout",
     "output_type": "stream",
     "text": [
      "Real Style:  1 ,  Italiano\n",
      "Predicted Style:  1 with probability:  99.93222951889038 %\n",
      "Input sequence: \n",
      " e la longa ntoni ntoni ma voi altri ve la passate forse meglio di me a lavorare e ad affannarvi\n"
     ]
    }
   ],
   "source": [
    "for i ,(data, label) in enumerate(val_loader):\n",
    "    if i == 0:\n",
    "        prova = data[0]\n",
    "        labels = label[0]\n",
    "    else: \n",
    "        break\n",
    "\n",
    "input_sentence = [idx2word[prova[i].item()] for i in range(prova.shape[0])]\n",
    "\n",
    "prova = prova.view(1,prova.shape[0])\n",
    "\n",
    "with torch.no_grad():\n",
    "    pred_label = gru_classifier(prova)\n",
    "    \n",
    "pred_label = torch.softmax(pred_label, dim = -1)\n",
    "\n",
    "\n",
    "if labels == 0.0:\n",
    "    stile = 'Dante'\n",
    "elif labels == 1.0:\n",
    "    stile = 'Italiano'\n",
    "elif labels == 2.0:\n",
    "    stile = 'Napoletano'\n",
    "\n",
    "\n",
    "pred_style = torch.argmax(pred_label).item()\n",
    "print('Real Style: ', labels.item(), ', ', stile)\n",
    "print('Predicted Style: ', pred_style, 'with probability: ', pred_label[0][0][pred_style].item()*100, '%')\n",
    "print(\"Input sequence: \\n\", ' '.join(input_sentence))"
   ]
  },
  {
   "cell_type": "markdown",
   "metadata": {},
   "source": [
    "# GRU Classifier Accuracy"
   ]
  },
  {
   "cell_type": "code",
   "execution_count": 20,
   "metadata": {},
   "outputs": [
    {
     "name": "stdout",
     "output_type": "stream",
     "text": [
      "Accuracy predicting Dante:  0.9626352015732547\n",
      "Accuracy predicting Italian:  0.9911504424778761\n",
      "Accuracy predicting Neapolitan:  0.99\n",
      "Overall  GRU  Accuracy:  0.981261881350377\n"
     ]
    }
   ],
   "source": [
    "classifier_accuracy(gru_classifier, style0_test, style1_test, style2_test, 'GRU')"
   ]
  },
  {
   "cell_type": "markdown",
   "metadata": {},
   "source": [
    "# LSTM Classifier"
   ]
  },
  {
   "cell_type": "code",
   "execution_count": 21,
   "metadata": {},
   "outputs": [],
   "source": [
    "lstm_classifier = LSTMClassifier(embedding_matrix, hidden_dim, 1)"
   ]
  },
  {
   "cell_type": "code",
   "execution_count": 22,
   "metadata": {},
   "outputs": [
    {
     "name": "stdout",
     "output_type": "stream",
     "text": [
      "# Parameters:  10547\n"
     ]
    }
   ],
   "source": [
    "classifier_params = sum(p.numel() for p in lstm_classifier.parameters() if p.requires_grad)\n",
    "print('# Parameters: ', classifier_params)"
   ]
  },
  {
   "cell_type": "code",
   "execution_count": 23,
   "metadata": {},
   "outputs": [
    {
     "name": "stderr",
     "output_type": "stream",
     "text": [
      " 10%|█         | 1/10 [00:01<00:14,  1.64s/it]"
     ]
    },
    {
     "name": "stdout",
     "output_type": "stream",
     "text": [
      "====> Epoch: 1 Average train loss: 0.0255, Average val loss: 0.0109\n"
     ]
    },
    {
     "name": "stderr",
     "output_type": "stream",
     "text": [
      " 20%|██        | 2/10 [00:03<00:12,  1.58s/it]"
     ]
    },
    {
     "name": "stdout",
     "output_type": "stream",
     "text": [
      "====> Epoch: 2 Average train loss: 0.0054, Average val loss: 0.0034\n"
     ]
    },
    {
     "name": "stderr",
     "output_type": "stream",
     "text": [
      " 30%|███       | 3/10 [00:04<00:10,  1.53s/it]"
     ]
    },
    {
     "name": "stdout",
     "output_type": "stream",
     "text": [
      "====> Epoch: 3 Average train loss: 0.0023, Average val loss: 0.0022\n"
     ]
    },
    {
     "name": "stderr",
     "output_type": "stream",
     "text": [
      " 40%|████      | 4/10 [00:06<00:09,  1.50s/it]"
     ]
    },
    {
     "name": "stdout",
     "output_type": "stream",
     "text": [
      "====> Epoch: 4 Average train loss: 0.0014, Average val loss: 0.0018\n"
     ]
    },
    {
     "name": "stderr",
     "output_type": "stream",
     "text": [
      " 50%|█████     | 5/10 [00:07<00:07,  1.49s/it]"
     ]
    },
    {
     "name": "stdout",
     "output_type": "stream",
     "text": [
      "====> Epoch: 5 Average train loss: 0.0010, Average val loss: 0.0017\n"
     ]
    },
    {
     "name": "stderr",
     "output_type": "stream",
     "text": [
      " 60%|██████    | 6/10 [00:09<00:05,  1.49s/it]"
     ]
    },
    {
     "name": "stdout",
     "output_type": "stream",
     "text": [
      "====> Epoch: 6 Average train loss: 0.0008, Average val loss: 0.0017\n"
     ]
    },
    {
     "name": "stderr",
     "output_type": "stream",
     "text": [
      " 70%|███████   | 7/10 [00:10<00:04,  1.50s/it]"
     ]
    },
    {
     "name": "stdout",
     "output_type": "stream",
     "text": [
      "====> Epoch: 7 Average train loss: 0.0006, Average val loss: 0.0013\n"
     ]
    },
    {
     "name": "stderr",
     "output_type": "stream",
     "text": [
      " 80%|████████  | 8/10 [00:12<00:03,  1.50s/it]"
     ]
    },
    {
     "name": "stdout",
     "output_type": "stream",
     "text": [
      "====> Epoch: 8 Average train loss: 0.0005, Average val loss: 0.0014\n"
     ]
    },
    {
     "name": "stderr",
     "output_type": "stream",
     "text": [
      " 90%|█████████ | 9/10 [00:13<00:01,  1.48s/it]"
     ]
    },
    {
     "name": "stdout",
     "output_type": "stream",
     "text": [
      "====> Epoch: 9 Average train loss: 0.0004, Average val loss: 0.0015\n"
     ]
    },
    {
     "name": "stderr",
     "output_type": "stream",
     "text": [
      "100%|██████████| 10/10 [00:14<00:00,  1.50s/it]"
     ]
    },
    {
     "name": "stdout",
     "output_type": "stream",
     "text": [
      "====> Epoch: 10 Average train loss: 0.0003, Average val loss: 0.0014\n"
     ]
    },
    {
     "name": "stderr",
     "output_type": "stream",
     "text": [
      "\n"
     ]
    },
    {
     "data": {
      "image/png": "[encoded data removed]",
      "text/plain": [
       "<Figure size 640x480 with 1 Axes>"
      ]
     },
     "metadata": {},
     "output_type": "display_data"
    }
   ],
   "source": [
    "train_losses = training(lstm_classifier, train_loader, val_loader, 10, 4e-4, 'LSTM Training')"
   ]
  },
  {
   "cell_type": "code",
   "execution_count": 24,
   "metadata": {},
   "outputs": [
    {
     "name": "stdout",
     "output_type": "stream",
     "text": [
      "Real Style:  0 ,  Dante\n",
      "Predicted Style:  0 with probability:  99.91732239723206 %\n",
      "Input sequence: \n",
      " scrivi pensa che pietro e paulo che moriro per la vigna che guasti ancor son vivi ben puoi tu dire\n"
     ]
    }
   ],
   "source": [
    "for i ,(data, label) in enumerate(val_loader):\n",
    "    if i == 0:\n",
    "        prova = data[0]\n",
    "        labels = label[0]\n",
    "    else: \n",
    "        break\n",
    "\n",
    "input_sentence = [idx2word[prova[i].item()] for i in range(prova.shape[0])]\n",
    "\n",
    "prova = prova.view(1,prova.shape[0])\n",
    "\n",
    "with torch.no_grad():\n",
    "    pred_label = lstm_classifier(prova)\n",
    "    \n",
    "pred_label = torch.softmax(pred_label, dim = -1)\n",
    "\n",
    "\n",
    "if labels == 0.0:\n",
    "    stile = 'Dante'\n",
    "elif labels == 1.0:\n",
    "    stile = 'Italiano'\n",
    "elif labels == 2.0:\n",
    "    stile = 'Napoletano'\n",
    "\n",
    "\n",
    "pred_style = torch.argmax(pred_label).item()\n",
    "print('Real Style: ', labels.item(), ', ', stile)\n",
    "print('Predicted Style: ', pred_style, 'with probability: ', pred_label[0][0][pred_style].item()*100, '%')\n",
    "print(\"Input sequence: \\n\", ' '.join(input_sentence))"
   ]
  },
  {
   "cell_type": "markdown",
   "metadata": {},
   "source": [
    "# LSTM Accuracy"
   ]
  },
  {
   "cell_type": "code",
   "execution_count": 25,
   "metadata": {},
   "outputs": [
    {
     "name": "stdout",
     "output_type": "stream",
     "text": [
      "Accuracy predicting Dante:  0.9793510324483776\n",
      "Accuracy predicting Italian:  0.9941002949852508\n",
      "Accuracy predicting Neapolitan:  0.994\n",
      "Overall  LSTM  Accuracy:  0.9891504424778761\n"
     ]
    }
   ],
   "source": [
    "classifier_accuracy(lstm_classifier, style0_test, style1_test, style2_test, 'LSTM')"
   ]
  },
  {
   "cell_type": "markdown",
   "metadata": {},
   "source": [
    "# Transformer Classifier"
   ]
  },
  {
   "cell_type": "code",
   "execution_count": 26,
   "metadata": {},
   "outputs": [],
   "source": [
    "t_classifier = TClassifier(embedding_matrix)"
   ]
  },
  {
   "cell_type": "code",
   "execution_count": 27,
   "metadata": {},
   "outputs": [
    {
     "name": "stdout",
     "output_type": "stream",
     "text": [
      "# Parameters:  3188599\n"
     ]
    }
   ],
   "source": [
    "classifier_params = sum(p.numel() for p in t_classifier.parameters() if p.requires_grad)\n",
    "print('# Parameters: ', classifier_params)"
   ]
  },
  {
   "cell_type": "code",
   "execution_count": 28,
   "metadata": {},
   "outputs": [
    {
     "name": "stderr",
     "output_type": "stream",
     "text": [
      " 20%|██        | 1/5 [00:31<02:04, 31.13s/it]"
     ]
    },
    {
     "name": "stdout",
     "output_type": "stream",
     "text": [
      "====> Epoch: 1 Average train loss: 0.0011, Average val loss: 0.0009\n"
     ]
    },
    {
     "name": "stderr",
     "output_type": "stream",
     "text": [
      " 40%|████      | 2/5 [00:59<01:28, 29.37s/it]"
     ]
    },
    {
     "name": "stdout",
     "output_type": "stream",
     "text": [
      "====> Epoch: 2 Average train loss: 0.0003, Average val loss: 0.0010\n"
     ]
    },
    {
     "name": "stderr",
     "output_type": "stream",
     "text": [
      " 60%|██████    | 3/5 [01:30<01:00, 30.04s/it]"
     ]
    },
    {
     "name": "stdout",
     "output_type": "stream",
     "text": [
      "====> Epoch: 3 Average train loss: 0.0002, Average val loss: 0.0011\n"
     ]
    },
    {
     "name": "stderr",
     "output_type": "stream",
     "text": [
      " 80%|████████  | 4/5 [02:01<00:30, 30.68s/it]"
     ]
    },
    {
     "name": "stdout",
     "output_type": "stream",
     "text": [
      "====> Epoch: 4 Average train loss: 0.0001, Average val loss: 0.0010\n"
     ]
    },
    {
     "name": "stderr",
     "output_type": "stream",
     "text": [
      "100%|██████████| 5/5 [02:37<00:00, 31.42s/it]"
     ]
    },
    {
     "name": "stdout",
     "output_type": "stream",
     "text": [
      "====> Epoch: 5 Average train loss: 0.0001, Average val loss: 0.0009\n"
     ]
    },
    {
     "name": "stderr",
     "output_type": "stream",
     "text": [
      "\n"
     ]
    },
    {
     "data": {
      "image/png": "[encoded data removed]",
      "text/plain": [
       "<Figure size 640x480 with 1 Axes>"
      ]
     },
     "metadata": {},
     "output_type": "display_data"
    }
   ],
   "source": [
    "train_losses = training(t_classifier, train_loader, val_loader, 5, 4e-4, 'Transformer Training')"
   ]
  },
  {
   "cell_type": "code",
   "execution_count": 29,
   "metadata": {},
   "outputs": [
    {
     "name": "stdout",
     "output_type": "stream",
     "text": [
      "Real Style:  1 ,  Italiano\n",
      "Predicted Style:  1 with probability:  99.99985694885254 %\n",
      "Input sequence: \n",
      " a don michele per farsi mangiare il resto come lo vedeva andare nella strada del nero credeva ci andasse per\n"
     ]
    }
   ],
   "source": [
    "for i ,(data, label) in enumerate(val_loader):\n",
    "    if i == 0:\n",
    "        prova = data[0]\n",
    "        labels = label[0]\n",
    "    else: \n",
    "        break\n",
    "\n",
    "input_sentence = [idx2word[prova[i].item()] for i in range(prova.shape[0])]\n",
    "\n",
    "prova = prova.view(1,prova.shape[0])\n",
    "\n",
    "with torch.no_grad():\n",
    "    pred_label = t_classifier(prova)\n",
    "    \n",
    "pred_label = torch.softmax(pred_label, dim = -1)\n",
    "\n",
    "\n",
    "if labels == 0.0:\n",
    "    stile = 'Dante'\n",
    "elif labels == 1.0:\n",
    "    stile = 'Italiano'\n",
    "elif labels == 2.0:\n",
    "    stile = 'Napoletano'\n",
    "\n",
    "\n",
    "pred_style = torch.argmax(pred_label).item()\n",
    "print('Real Style: ', labels.item(), ', ', stile)\n",
    "print('Predicted Style: ', pred_style, 'with probability: ', pred_label[0][0][pred_style].item()*100, '%')\n",
    "print(\"Input sequence: \\n\", ' '.join(input_sentence))"
   ]
  },
  {
   "cell_type": "markdown",
   "metadata": {},
   "source": [
    "# Transformer Classifier Accuracy"
   ]
  },
  {
   "cell_type": "code",
   "execution_count": 30,
   "metadata": {},
   "outputs": [
    {
     "name": "stdout",
     "output_type": "stream",
     "text": [
      "Accuracy predicting Dante:  0.9891838741396264\n",
      "Accuracy predicting Italian:  0.9941002949852508\n",
      "Accuracy predicting Neapolitan:  0.998\n",
      "Overall  Transformer  Accuracy:  0.9937613897082924\n"
     ]
    }
   ],
   "source": [
    "classifier_accuracy(t_classifier, style0_test, style1_test, style2_test, 'Transformer')"
   ]
  }
 ],
 "metadata": {
  "kernelspec": {
   "display_name": "Python 3",
   "language": "python",
   "name": "python3"
  },
  "language_info": {
   "codemirror_mode": {
    "name": "ipython",
    "version": 3
   },
   "file_extension": ".py",
   "mimetype": "text/x-python",
   "name": "python",
   "nbconvert_exporter": "python",
   "pygments_lexer": "ipython3",
   "version": "3.8.10"
  }
 },
 "nbformat": 4,
 "nbformat_minor": 2
}
