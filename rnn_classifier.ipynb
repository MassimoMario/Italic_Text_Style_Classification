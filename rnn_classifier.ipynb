{
 "cells": [
  {
   "cell_type": "code",
   "execution_count": 1,
   "metadata": {},
   "outputs": [],
   "source": [
    "import numpy as np\n",
    "from tqdm import tqdm\n",
    "import matplotlib.pyplot as plt\n",
    "import torch\n",
    "import torch.nn as nn\n",
    "from torch.nn import functional as F\n",
    "from torch.utils.data import DataLoader,TensorDataset\n",
    "from gensim.models import Word2Vec"
   ]
  },
  {
   "cell_type": "code",
   "execution_count": 2,
   "metadata": {},
   "outputs": [],
   "source": [
    "device = torch.device(\"cuda\" if torch.cuda.is_available() else \"cpu\")"
   ]
  },
  {
   "cell_type": "code",
   "execution_count": 102,
   "metadata": {},
   "outputs": [],
   "source": [
    "class CNNClassifier(nn.Module):\n",
    "    def __init__(self, embedding_matrix, num_classes, num_filters, kernel_sizes):\n",
    "        super(CNNClassifier, self).__init__()\n",
    "        self.embedding_dim = embedding_matrix.shape[1]\n",
    "\n",
    "        self.embedding = nn.Embedding.from_pretrained(embedding_matrix, freeze = True)\n",
    "        self.conv_layers = nn.ModuleList([nn.Conv2d(1, num_filters, (k, self.embedding_dim)) for k in kernel_sizes])\n",
    "        self.fc = nn.Linear(num_filters * len(kernel_sizes), num_classes)\n",
    "        \n",
    "    def forward(self,x):\n",
    "        x = self.embedding(x)\n",
    "        x = x.unsqueeze(1)\n",
    "        conv_results = [F.relu(conv(x)).squeeze(3) for conv in self.conv_layers]\n",
    "        pooled = [F.max_pool1d(conv, conv.shape[2]).squeeze(2) for conv in conv_results]\n",
    "        cat = torch.cat(pooled, dim = 1)\n",
    "        out = self.fc(cat).unsqueeze(0)\n",
    "        return F.softmax(out, dim=-1)"
   ]
  },
  {
   "cell_type": "code",
   "execution_count": 3,
   "metadata": {},
   "outputs": [],
   "source": [
    "class TClassifier(nn.Module):\n",
    "    ''' Class of a VAE where both Encoder and Decoder are RNNs with GRU units\n",
    "\n",
    "    Attributes\n",
    "    ----------\n",
    "    embedding_matrix : 2d torch tensor matrix from word2vec embedding\n",
    "    hidden_dim : int, dimension of RNNs hidden state\n",
    "    latent_dim : int, dimension of the VAE latent space\n",
    "    style_dim : int, dimension of the style space within the latent space\n",
    "    content_dim : int, dimension of the content space within the latent \n",
    "    vocab_size : int, number of unique tokens in the dataset\n",
    "    sos_token : torch tensor of the 'start of the sequence' token\n",
    "    num_layers : int, number of RNNs layers\n",
    "\n",
    "    \n",
    "    Methods\n",
    "    -------\n",
    "    forward(x) : perform the forward pass of the VAE\n",
    "    reparametrization(mu, log_var) : perform the reparametrization trick\n",
    "    reconstruction(x) : inference for reconstruction\n",
    "    TST(x, new_style) : inference for Text Style Transfer\n",
    "    '''\n",
    "\n",
    "    def __init__(self, embedding_matrix, hidden_dim, num_layers):\n",
    "        super(TClassifier, self).__init__()\n",
    "\n",
    "        self.embedding_dim = embedding_matrix.shape[1]\n",
    "\n",
    "        self.embedding = nn.Embedding.from_pretrained(embedding_matrix, freeze = True)\n",
    "        self.layer_norm = nn.LayerNorm(self.embedding_dim)\n",
    "        self.encoder_layer = nn.TransformerEncoderLayer(300, 10, batch_first = True)\n",
    "        self.encoder = nn.TransformerEncoder(self.encoder_layer, 1)\n",
    "        self.fc = nn.Linear(self.embedding_dim, 3)\n",
    "\n",
    "    def forward(self, x):\n",
    "        ''' Performs the VAE forward pass \n",
    "        Input\n",
    "        -------\n",
    "        x : torch tensor with shape [Batch_size, Sequence_length], input sequence\n",
    "        \n",
    "\n",
    "        Returns\n",
    "        -------\n",
    "        '''\n",
    "\n",
    "        # embedding input and GRU encoder pass\n",
    "        embedded_input = self.embedding(x)\n",
    "        embedded_input = self.layer_norm(embedded_input)\n",
    "        out = self.encoder(embedded_input)\n",
    "        \n",
    "        out = out.mean(1).unsqueeze(1)\n",
    "        out = out.permute(1,0,2)\n",
    "        pred_label = self.fc(out)\n",
    "\n",
    "        return pred_label"
   ]
  },
  {
   "cell_type": "code",
   "execution_count": 4,
   "metadata": {},
   "outputs": [],
   "source": [
    "class GRUClassifier(nn.Module):\n",
    "    ''' Class of a VAE where both Encoder and Decoder are RNNs with GRU units\n",
    "\n",
    "    Attributes\n",
    "    ----------\n",
    "    embedding_matrix : 2d torch tensor matrix from word2vec embedding\n",
    "    hidden_dim : int, dimension of RNNs hidden state\n",
    "    latent_dim : int, dimension of the VAE latent space\n",
    "    style_dim : int, dimension of the style space within the latent space\n",
    "    content_dim : int, dimension of the content space within the latent \n",
    "    vocab_size : int, number of unique tokens in the dataset\n",
    "    sos_token : torch tensor of the 'start of the sequence' token\n",
    "    num_layers : int, number of RNNs layers\n",
    "\n",
    "    \n",
    "    Methods\n",
    "    -------\n",
    "    forward(x) : perform the forward pass of the VAE\n",
    "    reparametrization(mu, log_var) : perform the reparametrization trick\n",
    "    reconstruction(x) : inference for reconstruction\n",
    "    TST(x, new_style) : inference for Text Style Transfer\n",
    "    '''\n",
    "\n",
    "    def __init__(self, embedding_matrix, hidden_dim, num_layers):\n",
    "        super(GRUClassifier, self).__init__()\n",
    "\n",
    "        self.embedding_dim = embedding_matrix.shape[1]\n",
    "\n",
    "        self.embedding = nn.Embedding.from_pretrained(embedding_matrix, freeze = True)\n",
    "        self.layer_norm = nn.LayerNorm(self.embedding_dim)\n",
    "        self.encoder = nn.GRU(self.embedding_dim, hidden_dim, num_layers, batch_first=True) # (N,B,H) N batches, B sequence length, H input dim\n",
    "        self.fc = nn.Linear(hidden_dim, 3)\n",
    "\n",
    "    def forward(self, x):\n",
    "        ''' Performs the VAE forward pass \n",
    "        Input\n",
    "        -------\n",
    "        x : torch tensor with shape [Batch_size, Sequence_length], input sequence\n",
    "        \n",
    "\n",
    "        Returns\n",
    "        -------\n",
    "        '''\n",
    "\n",
    "        # embedding input and GRU encoder pass\n",
    "        embedded_input = self.embedding(x)\n",
    "        embedded_input = self.layer_norm(embedded_input)\n",
    "        _, hn = self.encoder(embedded_input)\n",
    "        \n",
    "\n",
    "        pred_label = self.fc(hn)\n",
    "\n",
    "        return pred_label"
   ]
  },
  {
   "cell_type": "code",
   "execution_count": 5,
   "metadata": {},
   "outputs": [],
   "source": [
    "class LSTMClassifier(nn.Module):\n",
    "    ''' Class of a VAE where both Encoder and Decoder are RNNs with GRU units\n",
    "\n",
    "    Attributes\n",
    "    ----------\n",
    "    embedding_matrix : 2d torch tensor matrix from word2vec embedding\n",
    "    hidden_dim : int, dimension of RNNs hidden state\n",
    "    latent_dim : int, dimension of the VAE latent space\n",
    "    style_dim : int, dimension of the style space within the latent space\n",
    "    content_dim : int, dimension of the content space within the latent \n",
    "    vocab_size : int, number of unique tokens in the dataset\n",
    "    sos_token : torch tensor of the 'start of the sequence' token\n",
    "    num_layers : int, number of RNNs layers\n",
    "\n",
    "    \n",
    "    Methods\n",
    "    -------\n",
    "    forward(x) : perform the forward pass of the VAE\n",
    "    reparametrization(mu, log_var) : perform the reparametrization trick\n",
    "    reconstruction(x) : inference for reconstruction\n",
    "    TST(x, new_style) : inference for Text Style Transfer\n",
    "    '''\n",
    "\n",
    "    def __init__(self, embedding_matrix, hidden_dim, num_layers):\n",
    "        super(LSTMClassifier, self).__init__()\n",
    "\n",
    "        self.embedding_dim = embedding_matrix.shape[1]\n",
    "\n",
    "        self.embedding = nn.Embedding.from_pretrained(embedding_matrix, freeze = True)\n",
    "        self.layer_norm = nn.LayerNorm(self.embedding_dim)\n",
    "        self.encoder = nn.LSTM(self.embedding_dim, hidden_dim, num_layers, batch_first=True) # (N,B,H) N batches, B sequence length, H input dim\n",
    "        self.fc = nn.Linear(hidden_dim, 3)\n",
    "\n",
    "    def forward(self, x):\n",
    "        ''' Performs the VAE forward pass \n",
    "        Input\n",
    "        -------\n",
    "        x : torch tensor with shape [Batch_size, Sequence_length], input sequence\n",
    "        \n",
    "\n",
    "        Returns\n",
    "        -------\n",
    "        '''\n",
    "\n",
    "        # embedding input and GRU encoder pass\n",
    "        embedded_input = self.embedding(x)\n",
    "        embedded_input = self.layer_norm(embedded_input)\n",
    "        _, (hn, cn) = self.encoder(embedded_input)\n",
    "        \n",
    "\n",
    "        pred_label = self.fc(hn)\n",
    "\n",
    "        return pred_label"
   ]
  },
  {
   "cell_type": "code",
   "execution_count": 6,
   "metadata": {},
   "outputs": [],
   "source": [
    "class RNNClassifier(nn.Module):\n",
    "    ''' Class of a VAE where both Encoder and Decoder are RNNs with GRU units\n",
    "\n",
    "    Attributes\n",
    "    ----------\n",
    "    embedding_matrix : 2d torch tensor matrix from word2vec embedding\n",
    "    hidden_dim : int, dimension of RNNs hidden state\n",
    "    latent_dim : int, dimension of the VAE latent space\n",
    "    style_dim : int, dimension of the style space within the latent space\n",
    "    content_dim : int, dimension of the content space within the latent \n",
    "    vocab_size : int, number of unique tokens in the dataset\n",
    "    sos_token : torch tensor of the 'start of the sequence' token\n",
    "    num_layers : int, number of RNNs layers\n",
    "\n",
    "    \n",
    "    Methods\n",
    "    -------\n",
    "    forward(x) : perform the forward pass of the VAE\n",
    "    reparametrization(mu, log_var) : perform the reparametrization trick\n",
    "    reconstruction(x) : inference for reconstruction\n",
    "    TST(x, new_style) : inference for Text Style Transfer\n",
    "    '''\n",
    "\n",
    "    def __init__(self, embedding_matrix, hidden_dim, num_layers):\n",
    "        super(RNNClassifier, self).__init__()\n",
    "\n",
    "        self.embedding_dim = embedding_matrix.shape[1]\n",
    "\n",
    "        self.embedding = nn.Embedding.from_pretrained(embedding_matrix, freeze = True)\n",
    "        self.layer_norm = nn.LayerNorm(self.embedding_dim)\n",
    "        self.encoder = nn.RNN(self.embedding_dim, hidden_dim, num_layers, batch_first=True) # (N,B,H) N batches, B sequence length, H input dim\n",
    "        self.fc = nn.Linear(hidden_dim, 3)\n",
    "\n",
    "    def forward(self, x):\n",
    "        ''' Performs the VAE forward pass \n",
    "        Input\n",
    "        -------\n",
    "        x : torch tensor with shape [Batch_size, Sequence_length], input sequence\n",
    "        \n",
    "\n",
    "        Returns\n",
    "        -------\n",
    "        '''\n",
    "\n",
    "        # embedding input and GRU encoder pass\n",
    "        embedded_input = self.embedding(x)\n",
    "        embedded_input = self.layer_norm(embedded_input)\n",
    "        _, hn = self.encoder(embedded_input)\n",
    "        \n",
    "\n",
    "        pred_label = self.fc(hn)\n",
    "\n",
    "        return pred_label"
   ]
  },
  {
   "cell_type": "code",
   "execution_count": 7,
   "metadata": {},
   "outputs": [],
   "source": [
    "def loss_function(pred_labels, labels, loss_fn = nn.CrossEntropyLoss()):\n",
    "    L = loss_fn(pred_labels.view(pred_labels.shape[1], pred_labels.shape[2]), labels.view(-1))\n",
    "\n",
    "    return L"
   ]
  },
  {
   "cell_type": "code",
   "execution_count": 98,
   "metadata": {},
   "outputs": [],
   "source": [
    "def training(model, train_loader, val_loader, num_epochs, lr = 4e-4, title = 'Training'):\n",
    "    params = list(model.parameters())\n",
    "\n",
    "    # three different optimizer\n",
    "    optimizer = torch.optim.Adam(params, lr = lr)\n",
    "\n",
    "    train_losses = []\n",
    "    val_losses = []\n",
    "\n",
    "    for epoch in tqdm(range(num_epochs)):\n",
    "        train_loss = 0.0\n",
    "        average_loss = 0.0\n",
    "        val_loss = 0.0\n",
    "        average_val_loss = 0.0\n",
    "\n",
    "        for  i, (data, labels) in enumerate(train_loader):\n",
    "            data = data.to(device)\n",
    "            labels = labels.to(device)\n",
    "\n",
    "            labels = labels.type(torch.LongTensor)\n",
    "\n",
    "            optimizer.zero_grad()\n",
    "            \n",
    "\n",
    "            # forward pass through VAE\n",
    "            pred_labels = model(data)\n",
    "            \n",
    "            # comuting total training loss\n",
    "            loss_tot = loss_function(pred_labels.to(device),\n",
    "                                     labels.to(device))\n",
    "            \n",
    "            loss_tot.backward()\n",
    "            train_loss += loss_tot.item()\n",
    "\n",
    "\n",
    "            optimizer.step()\n",
    "            \n",
    "            if (i + 1) % 5000 == 0:\n",
    "                print(f'Train Epoch: {epoch+1} [{i * len(data)}/{len(train_loader.dataset)} ({100. * i / len(train_loader):.0f}%)]\\tLoss: {loss_tot.item() / len(data):.6f}')\n",
    "        \n",
    "        \n",
    "\n",
    "        with torch.no_grad():\n",
    "            for i, (data, labels) in enumerate(val_loader):\n",
    "                data = data.to(device)\n",
    "                labels = labels.to(device)\n",
    "\n",
    "                labels = labels.type(torch.LongTensor)\n",
    "\n",
    "                # forward pass through VAE\n",
    "                pred_labels = model(data)\n",
    "                \n",
    "                \n",
    "                # comuting total validation loss\n",
    "                val_loss_tot = loss_function(pred_labels.to(device),\n",
    "                                     labels.to(device))\n",
    "                \n",
    "                val_loss += val_loss_tot.item()\n",
    "\n",
    "\n",
    "                \n",
    "                if (i + 1) % 5000 == 0:\n",
    "                    print(f'Train Epoch: {epoch+1} [{i * len(data)}/{len(val_loader.dataset)} ({100. * i / len(val_loader):.0f}%)]\\tLoss: {val_loss_tot.item() / len(data):.6f}')\n",
    "            \n",
    "            \n",
    "        average_loss = train_loss / len(train_loader.dataset)\n",
    "        train_losses.append(average_loss)\n",
    "\n",
    "        average_val_loss = val_loss / len(val_loader.dataset)\n",
    "        val_losses.append(average_val_loss)\n",
    "        \n",
    "        # printing average training and validation losses\n",
    "        print(f'====> Epoch: {epoch+1} Average train loss: {average_loss:.4f}, Average val loss: {average_val_loss:.4f}')\n",
    "    \n",
    "    # plotting training and validation curve at the end of the for loop \n",
    "    plt.plot(np.linspace(1,num_epochs,len(train_losses)), train_losses, c = 'darkcyan',label = 'train')\n",
    "    plt.plot(np.linspace(1,num_epochs,len(val_losses)), val_losses, c = 'orange',label = 'val')\n",
    "    plt.legend()\n",
    "    plt.xlabel(\"Epochs\")\n",
    "    plt.ylabel(\"Loss\")\n",
    "    plt.title(title)\n",
    "    plt.show()\n",
    "\n",
    "    return train_losses"
   ]
  },
  {
   "cell_type": "code",
   "execution_count": 9,
   "metadata": {},
   "outputs": [],
   "source": [
    "def divide_text(text, sequence_length):\n",
    "    ''' Function dividing text in order to feed the Word2vec model\n",
    "    \n",
    "    Inputs\n",
    "    ----------\n",
    "    text : text corpus from a file\n",
    "    sequence_length : int\n",
    "    \n",
    "    \n",
    "    Returns\n",
    "    ----------\n",
    "    output_text : 2D list of words with shape [text_length/sequence_length, sequence_length]'''\n",
    "\n",
    "    words = text.split()\n",
    "    grouped_words = [' '.join(words[i:i+sequence_length]) for i in range(0,len(words),int(sequence_length/2))]  \n",
    "    output_text = [grouped_words[i].split() for i in range(len(grouped_words)) if len(grouped_words[i].split()) == sequence_length]\n",
    "\n",
    "    return output_text"
   ]
  },
  {
   "cell_type": "code",
   "execution_count": 10,
   "metadata": {},
   "outputs": [],
   "source": [
    "def custom_dataset(file1 : str, file2 : str, file3 : str, sequence_length, embedding_dim, batch_size, training_fraction):\n",
    "    ''' Function creating dataset\n",
    "    \n",
    "    Inputs\n",
    "    ----------\n",
    "    file1 : str, name of the file containing the first corpus\n",
    "    file2 : str, name of the file containing the second corpus\n",
    "    sequence_length : int\n",
    "    embedding_dim : int, number of dimension for the embedded words using Word2vec model\n",
    "    batch_size : int\n",
    "    training_fraction : float, fraction of training data\n",
    "    \n",
    "    \n",
    "    Returns\n",
    "    ----------\n",
    "    dataloader_train : istance of torch.utils.data.Dataloader, training data\n",
    "    dataloader_val : istance of torch.utils.data.Dataloader, validation data\n",
    "    embedding_dim : int\n",
    "    embedding_matrix : 2d torch tensor matrix from word2vec embedding\n",
    "    word2vec : trained Word2vec model\n",
    "    idx2word : dictionary from indices to words\n",
    "    word2idx : dictionart from words to indices\n",
    "    vocab_size : int, number of unique tokens\n",
    "    style0_val : torch tensor containing every validation data belonging to first style\n",
    "    style1_val : torch tensor containing every validation data belonging to second style'''\n",
    "\n",
    "    # reading the two corpus\n",
    "    with open(file1, 'r', encoding='utf-8') as f:\n",
    "        text1 = f.read()\n",
    "\n",
    "\n",
    "    with open(file2, 'r', encoding='utf-8') as f:\n",
    "        text2 = f.read()\n",
    "\n",
    "    with open(file3, 'r', encoding='utf-8') as f:\n",
    "        text3 = f.read()\n",
    "    \n",
    "\n",
    "    # adding a special token for the start of the sequence\n",
    "    text1 = '<sos> ' + text1 \n",
    "    text = text1 + ' ' + text2 + ' ' + text3\n",
    "\n",
    "    # divide the whole text to feed the Word2vec model\n",
    "    divided_text = divide_text(text, sequence_length)\n",
    "\n",
    "    # training the Word2vec model with the whole corpus\n",
    "    word2vec = Word2Vec(divided_text, vector_size = embedding_dim, window = sequence_length, min_count=1, workers=4, epochs = 30)\n",
    "    word2vec.train(divided_text, total_examples=word2vec.corpus_count, epochs=word2vec.epochs)\n",
    "\n",
    "    # Get the embedding dimension\n",
    "    embedding_dim = word2vec.wv.vector_size\n",
    "\n",
    "    # Prepare the embedding matrix\n",
    "    vocab_size = len(word2vec.wv)\n",
    "    embedding_matrix = np.zeros((vocab_size, embedding_dim))\n",
    "    word2idx = {word: idx for idx, word in enumerate(word2vec.wv.index_to_key)}\n",
    "    idx2word = {idx: word for idx, word in enumerate(word2vec.wv.index_to_key)}\n",
    "\n",
    "    # creating the embedding matrix from the trained Word2vec model\n",
    "    for word, idx in word2idx.items():\n",
    "        embedding_matrix[idx] = word2vec.wv[word]\n",
    "\n",
    "    \n",
    "    embedding_matrix = torch.tensor(embedding_matrix, dtype=torch.float32)\n",
    "\n",
    "\n",
    "    # dividing only the first text\n",
    "    text1_divided = divide_text(text1, sequence_length)\n",
    "    data1 = torch.LongTensor([[word2idx[char] for char in text1_divided[i]] for i in range(len(text1_divided))])\n",
    "\n",
    "    \n",
    "    # dividing only the second text\n",
    "    text2_divided = divide_text(text2, sequence_length)\n",
    "    data2 = torch.LongTensor([[word2idx[char] for char in text2_divided[i]] for i in range(len(text2_divided))])\n",
    "\n",
    "\n",
    "    text3_divided = divide_text(text3, sequence_length)\n",
    "    data3 = torch.LongTensor([[word2idx[char] for char in text3_divided[i]] for i in range(len(text3_divided))])\n",
    "\n",
    "\n",
    "    # defining training and validation data for the first style\n",
    "    data1_train = data1[:int(training_fraction * data1.shape[0])]\n",
    "    data1_val = data1[int(training_fraction * data1.shape[0]): int(training_fraction * data1.shape[0]) + int(0.1 * data1.shape[0])]\n",
    "    data1_test = data1[int(training_fraction * data1.shape[0]) + int(0.1 * data1.shape[0]): ]\n",
    "\n",
    "    # defining training and validation data for the second style\n",
    "    data2_train = data2[:int(training_fraction * data2.shape[0])]\n",
    "    data2_val = data2[int(training_fraction * data2.shape[0]): int(training_fraction * data2.shape[0]) + int(0.1 * data2.shape[0])]\n",
    "    data2_test = data2[int(training_fraction * data2.shape[0]) + int(0.1 * data2.shape[0]): ]\n",
    "\n",
    "\n",
    "    data3_train = data3[:int(training_fraction * data3.shape[0])]\n",
    "    data3_val = data3[int(training_fraction * data3.shape[0]): int(training_fraction * data3.shape[0]) + int(0.1 * data3.shape[0])]\n",
    "    data3_test = data3[int(training_fraction * data3.shape[0]) + int(0.1 * data3.shape[0]): ]\n",
    "\n",
    "    # creating training and validation labels for the first style\n",
    "    label0_train = torch.zeros(data1_train.shape[0])\n",
    "    label0_val = torch.zeros(data1_val.shape[0])\n",
    "\n",
    "\n",
    "    # creating training and validation labels for the second style\n",
    "    label1_train = torch.ones(data2_train.shape[0])\n",
    "    label1_val = torch.ones(data2_val.shape[0])\n",
    "\n",
    "\n",
    "    label2_train = 2*torch.ones(data3_train.shape[0])\n",
    "    label2_val = 2*torch.ones(data3_val.shape[0])\n",
    "\n",
    "\n",
    "    # creating training and validation labels\n",
    "    labels_train = torch.cat((label0_train, label1_train, label2_train), dim = 0)\n",
    "    labels_val = torch.cat((label0_val, label1_val, label2_val), dim = 0)\n",
    "\n",
    "    # creating training and validation data\n",
    "    data_train = torch.cat((data1_train, data2_train, data3_train), dim = 0)\n",
    "    data_val = torch.cat((data1_val, data2_val, data3_val), dim = 0)\n",
    "\n",
    "    data_train = torch.LongTensor(data_train)\n",
    "    labels_train = labels_train.type(torch.LongTensor)\n",
    "\n",
    "    dataset_train = TensorDataset(data_train, labels_train)\n",
    "\n",
    "    # Create a training DataLoader with shuffling enabled\n",
    "    dataloader_train = DataLoader(dataset_train, batch_size = batch_size, shuffle=True)\n",
    "   \n",
    "\n",
    "\n",
    "    data_val = torch.LongTensor(data_val)\n",
    "    labels_val = labels_val.type(torch.LongTensor)\n",
    "\n",
    "    dataset_val = TensorDataset(data_val, labels_val)\n",
    "\n",
    "    # Create a validation DataLoader with shuffling enabled\n",
    "    dataloader_val = DataLoader(dataset_val, batch_size = batch_size, shuffle = True)\n",
    "    \n",
    "\n",
    "    # validation data for both styles that will be used during inference\n",
    "    style0_test = torch.LongTensor(data1_test)\n",
    "    style1_test = torch.LongTensor(data2_test)\n",
    "    style2_test = torch.LongTensor(data3_test)\n",
    "    \n",
    "    return dataloader_train, dataloader_val, embedding_dim, embedding_matrix, word2vec, idx2word, word2idx, vocab_size, style0_test, style1_test, style2_test"
   ]
  },
  {
   "cell_type": "code",
   "execution_count": 52,
   "metadata": {},
   "outputs": [],
   "source": [
    "sequence_length = 20\n",
    "batch_size = 32\n",
    "embedding_dim = 300\n",
    "hidden_dim = 8"
   ]
  },
  {
   "cell_type": "code",
   "execution_count": 53,
   "metadata": {},
   "outputs": [
    {
     "name": "stdout",
     "output_type": "stream",
     "text": [
      "len train loader:  633\n",
      "len val loader:  80\n",
      "total number of training samples:  20246\n",
      "total number of validation samples:  2529\n",
      "vocab size:  26606\n"
     ]
    }
   ],
   "source": [
    "train_loader, val_loader, embedding_dim, embedding_matrix, word2vec, idx2word, word2idx, vocab_size, style0_test, style1_test, style2_test = custom_dataset('divina_commedia.txt',\n",
    "                                                                                                                                                        'uno_nessuno_e_i_malavoglia.txt',\n",
    "                                                                                                                                                        'lo_cunto_de_li_cunti.txt',\n",
    "                                                                                                                                                        sequence_length,\n",
    "                                                                                                                                                        embedding_dim,\n",
    "                                                                                                                                                        batch_size,\n",
    "                                                                                                                                                        0.8)\n",
    "print('len train loader: ', len(train_loader))\n",
    "print('len val loader: ', len(val_loader))\n",
    "print('total number of training samples: ', len(train_loader.dataset))\n",
    "print('total number of validation samples: ', len(val_loader.dataset))\n",
    "print('vocab size: ', vocab_size)"
   ]
  },
  {
   "cell_type": "code",
   "execution_count": 12,
   "metadata": {},
   "outputs": [
    {
     "name": "stdout",
     "output_type": "stream",
     "text": [
      "len train loader:  363\n",
      "len val loader:  46\n",
      "total number of training samples:  11606\n",
      "total number of validation samples:  1450\n",
      "vocab size:  12762\n"
     ]
    }
   ],
   "source": [
    "train_loader, val_loader, embedding_dim, embedding_matrix, word2vec, idx2word, word2idx, vocab_size, style0_test, style1_test, style2_test = custom_dataset('inferno.txt',\n",
    "                                                                                                                                                        'purgatorio.txt',\n",
    "                                                                                                                                                        'paradiso.txt',\n",
    "                                                                                                                                                        sequence_length,\n",
    "                                                                                                                                                        embedding_dim,\n",
    "                                                                                                                                                        batch_size,\n",
    "                                                                                                                                                        0.8)\n",
    "print('len train loader: ', len(train_loader))\n",
    "print('len val loader: ', len(val_loader))\n",
    "print('total number of training samples: ', len(train_loader.dataset))\n",
    "print('total number of validation samples: ', len(val_loader.dataset))\n",
    "print('vocab size: ', vocab_size)"
   ]
  },
  {
   "cell_type": "code",
   "execution_count": 103,
   "metadata": {},
   "outputs": [],
   "source": [
    "cnn_classifier = CNNClassifier(embedding_matrix, 3, 3, [3,3,3])"
   ]
  },
  {
   "cell_type": "code",
   "execution_count": 104,
   "metadata": {},
   "outputs": [
    {
     "name": "stdout",
     "output_type": "stream",
     "text": [
      "# Parameters:  8139\n"
     ]
    }
   ],
   "source": [
    "classifier_params = sum(p.numel() for p in cnn_classifier.parameters() if p.requires_grad)\n",
    "print('# Parameters: ', classifier_params)"
   ]
  },
  {
   "cell_type": "code",
   "execution_count": 105,
   "metadata": {},
   "outputs": [
    {
     "name": "stderr",
     "output_type": "stream",
     "text": [
      " 12%|█▎        | 1/8 [00:02<00:20,  2.92s/it]"
     ]
    },
    {
     "name": "stdout",
     "output_type": "stream",
     "text": [
      "====> Epoch: 1 Average train loss: 0.0194, Average val loss: 0.0181\n"
     ]
    },
    {
     "name": "stderr",
     "output_type": "stream",
     "text": [
      " 25%|██▌       | 2/8 [00:05<00:16,  2.83s/it]"
     ]
    },
    {
     "name": "stdout",
     "output_type": "stream",
     "text": [
      "====> Epoch: 2 Average train loss: 0.0178, Average val loss: 0.0179\n"
     ]
    },
    {
     "name": "stderr",
     "output_type": "stream",
     "text": [
      " 38%|███▊      | 3/8 [00:08<00:14,  2.81s/it]"
     ]
    },
    {
     "name": "stdout",
     "output_type": "stream",
     "text": [
      "====> Epoch: 3 Average train loss: 0.0176, Average val loss: 0.0179\n"
     ]
    },
    {
     "name": "stderr",
     "output_type": "stream",
     "text": [
      " 50%|█████     | 4/8 [00:11<00:11,  2.80s/it]"
     ]
    },
    {
     "name": "stdout",
     "output_type": "stream",
     "text": [
      "====> Epoch: 4 Average train loss: 0.0175, Average val loss: 0.0178\n"
     ]
    },
    {
     "name": "stderr",
     "output_type": "stream",
     "text": [
      " 62%|██████▎   | 5/8 [00:14<00:08,  2.80s/it]"
     ]
    },
    {
     "name": "stdout",
     "output_type": "stream",
     "text": [
      "====> Epoch: 5 Average train loss: 0.0174, Average val loss: 0.0178\n"
     ]
    },
    {
     "name": "stderr",
     "output_type": "stream",
     "text": [
      " 75%|███████▌  | 6/8 [00:16<00:05,  2.80s/it]"
     ]
    },
    {
     "name": "stdout",
     "output_type": "stream",
     "text": [
      "====> Epoch: 6 Average train loss: 0.0174, Average val loss: 0.0179\n"
     ]
    },
    {
     "name": "stderr",
     "output_type": "stream",
     "text": [
      " 88%|████████▊ | 7/8 [00:19<00:02,  2.81s/it]"
     ]
    },
    {
     "name": "stdout",
     "output_type": "stream",
     "text": [
      "====> Epoch: 7 Average train loss: 0.0174, Average val loss: 0.0178\n"
     ]
    },
    {
     "name": "stderr",
     "output_type": "stream",
     "text": [
      "100%|██████████| 8/8 [00:22<00:00,  2.81s/it]"
     ]
    },
    {
     "name": "stdout",
     "output_type": "stream",
     "text": [
      "====> Epoch: 8 Average train loss: 0.0173, Average val loss: 0.0178\n"
     ]
    },
    {
     "name": "stderr",
     "output_type": "stream",
     "text": [
      "\n"
     ]
    },
    {
     "data": {
      "image/png": "[encoded data removed]",
      "text/plain": [
       "<Figure size 640x480 with 1 Axes>"
      ]
     },
     "metadata": {},
     "output_type": "display_data"
    }
   ],
   "source": [
    "train_losses = training(cnn_classifier, train_loader, val_loader, 8)"
   ]
  },
  {
   "cell_type": "code",
   "execution_count": 143,
   "metadata": {},
   "outputs": [
    {
     "name": "stdout",
     "output_type": "stream",
     "text": [
      "Real Style:  2 ,  Napoletano\n",
      "Predicted Style:  2 with probability:  57.61168599128723 %\n",
      "Input sequence: \n",
      " io non tanto averraggio tormiento de scrastareme da sto nigro cuorpo quanto de scantoniareme da ssa bella perzona cossì dicendo\n"
     ]
    }
   ],
   "source": [
    "for i ,(data, label) in enumerate(val_loader):\n",
    "    if i == 0:\n",
    "        prova = data[0]\n",
    "        labels = label[0]\n",
    "    else: \n",
    "        break\n",
    "\n",
    "input_sentence = [idx2word[prova[i].item()] for i in range(prova.shape[0])]\n",
    "\n",
    "prova = prova.view(1,prova.shape[0])\n",
    "\n",
    "with torch.no_grad():\n",
    "    pred_label = cnn_classifier(prova)\n",
    "    \n",
    "pred_label = torch.softmax(pred_label, dim = -1)\n",
    "\n",
    "\n",
    "if labels == 0.0:\n",
    "    stile = 'Dante'\n",
    "elif labels == 1.0:\n",
    "    stile = 'Italiano'\n",
    "elif labels == 2.0:\n",
    "    stile = 'Napoletano'\n",
    "\n",
    "\n",
    "pred_style = torch.argmax(pred_label).item()\n",
    "print('Real Style: ', labels.item(), ', ', stile)\n",
    "print('Predicted Style: ', pred_style, 'with probability: ', pred_label[0][0][pred_style].item()*100, '%')\n",
    "print(\"Input sequence: \\n\", ' '.join(input_sentence))"
   ]
  },
  {
   "cell_type": "code",
   "execution_count": 113,
   "metadata": {},
   "outputs": [
    {
     "name": "stdout",
     "output_type": "stream",
     "text": [
      "Accuracy predicting Dante:  0.984267453294002\n"
     ]
    }
   ],
   "source": [
    "with torch.no_grad():\n",
    "    pred_labels = cnn_classifier(style0_test)\n",
    "\n",
    "pred_labels = torch.argmax(pred_labels,dim=-1).squeeze(0)\n",
    "\n",
    "dante_accuracy = 0\n",
    "for lab in pred_labels:\n",
    "    if lab.item() == 0:\n",
    "        dante_accuracy +=1\n",
    "\n",
    "dante_accuracy = dante_accuracy/len(style0_test)\n",
    "print('Accuracy predicting Dante: ', dante_accuracy)"
   ]
  },
  {
   "cell_type": "code",
   "execution_count": 114,
   "metadata": {},
   "outputs": [
    {
     "name": "stdout",
     "output_type": "stream",
     "text": [
      "Accuracy predicting Italian:  0.9872173058013766\n"
     ]
    }
   ],
   "source": [
    "with torch.no_grad():\n",
    "    pred_labels = cnn_classifier(style1_test)\n",
    "\n",
    "pred_labels = torch.argmax(pred_labels,dim=-1).squeeze(0)\n",
    "\n",
    "italian_accuracy = 0\n",
    "for lab in pred_labels:\n",
    "    if lab.item() == 1:\n",
    "        italian_accuracy +=1\n",
    "\n",
    "italian_accuracy = italian_accuracy/len(style1_test)\n",
    "print('Accuracy predicting Italian: ', italian_accuracy)"
   ]
  },
  {
   "cell_type": "code",
   "execution_count": 115,
   "metadata": {},
   "outputs": [
    {
     "name": "stdout",
     "output_type": "stream",
     "text": [
      "Accuracy predicting Neapolitan:  0.998\n"
     ]
    }
   ],
   "source": [
    "with torch.no_grad():\n",
    "    pred_labels = cnn_classifier(style2_test)\n",
    "\n",
    "pred_labels = torch.argmax(pred_labels,dim=-1).squeeze(0)\n",
    "\n",
    "neapolitan_accuracy = 0\n",
    "for lab in pred_labels:\n",
    "    if lab.item() == 2:\n",
    "        neapolitan_accuracy +=1\n",
    "\n",
    "neapolitan_accuracy = neapolitan_accuracy/len(style2_test)\n",
    "print('Accuracy predicting Neapolitan: ', neapolitan_accuracy)"
   ]
  },
  {
   "cell_type": "code",
   "execution_count": 117,
   "metadata": {},
   "outputs": [
    {
     "name": "stdout",
     "output_type": "stream",
     "text": [
      "Overall CNN Accuracy:  0.9898282530317929\n"
     ]
    }
   ],
   "source": [
    "overall_accuracy = (dante_accuracy + italian_accuracy + neapolitan_accuracy)/3\n",
    "print('Overall CNN Accuracy: ', overall_accuracy)"
   ]
  },
  {
   "cell_type": "markdown",
   "metadata": {},
   "source": [
    "# RNN Classifier"
   ]
  },
  {
   "cell_type": "code",
   "execution_count": 144,
   "metadata": {},
   "outputs": [],
   "source": [
    "rnn_classifier = RNNClassifier(embedding_matrix, hidden_dim, 1)"
   ]
  },
  {
   "cell_type": "code",
   "execution_count": 145,
   "metadata": {},
   "outputs": [
    {
     "name": "stdout",
     "output_type": "stream",
     "text": [
      "# Parameters:  3107\n"
     ]
    }
   ],
   "source": [
    "classifier_params = sum(p.numel() for p in rnn_classifier.parameters() if p.requires_grad)\n",
    "print('# Parameters: ', classifier_params)"
   ]
  },
  {
   "cell_type": "code",
   "execution_count": 146,
   "metadata": {},
   "outputs": [
    {
     "name": "stderr",
     "output_type": "stream",
     "text": [
      " 12%|█▎        | 1/8 [00:02<00:14,  2.12s/it]"
     ]
    },
    {
     "name": "stdout",
     "output_type": "stream",
     "text": [
      "====> Epoch: 1 Average train loss: 0.0280, Average val loss: 0.0261\n"
     ]
    },
    {
     "name": "stderr",
     "output_type": "stream",
     "text": [
      " 25%|██▌       | 2/8 [00:04<00:12,  2.04s/it]"
     ]
    },
    {
     "name": "stdout",
     "output_type": "stream",
     "text": [
      "====> Epoch: 2 Average train loss: 0.0208, Average val loss: 0.0191\n"
     ]
    },
    {
     "name": "stderr",
     "output_type": "stream",
     "text": [
      " 38%|███▊      | 3/8 [00:06<00:10,  2.09s/it]"
     ]
    },
    {
     "name": "stdout",
     "output_type": "stream",
     "text": [
      "====> Epoch: 3 Average train loss: 0.0160, Average val loss: 0.0151\n"
     ]
    },
    {
     "name": "stderr",
     "output_type": "stream",
     "text": [
      " 50%|█████     | 4/8 [00:07<00:07,  1.89s/it]"
     ]
    },
    {
     "name": "stdout",
     "output_type": "stream",
     "text": [
      "====> Epoch: 4 Average train loss: 0.0125, Average val loss: 0.0121\n"
     ]
    },
    {
     "name": "stderr",
     "output_type": "stream",
     "text": [
      " 62%|██████▎   | 5/8 [00:09<00:05,  1.83s/it]"
     ]
    },
    {
     "name": "stdout",
     "output_type": "stream",
     "text": [
      "====> Epoch: 5 Average train loss: 0.0097, Average val loss: 0.0096\n"
     ]
    },
    {
     "name": "stderr",
     "output_type": "stream",
     "text": [
      " 75%|███████▌  | 6/8 [00:11<00:03,  1.79s/it]"
     ]
    },
    {
     "name": "stdout",
     "output_type": "stream",
     "text": [
      "====> Epoch: 6 Average train loss: 0.0070, Average val loss: 0.0065\n"
     ]
    },
    {
     "name": "stderr",
     "output_type": "stream",
     "text": [
      " 88%|████████▊ | 7/8 [00:12<00:01,  1.72s/it]"
     ]
    },
    {
     "name": "stdout",
     "output_type": "stream",
     "text": [
      "====> Epoch: 7 Average train loss: 0.0047, Average val loss: 0.0050\n"
     ]
    },
    {
     "name": "stderr",
     "output_type": "stream",
     "text": [
      "100%|██████████| 8/8 [00:14<00:00,  1.80s/it]"
     ]
    },
    {
     "name": "stdout",
     "output_type": "stream",
     "text": [
      "====> Epoch: 8 Average train loss: 0.0043, Average val loss: 0.0055\n"
     ]
    },
    {
     "name": "stderr",
     "output_type": "stream",
     "text": [
      "\n"
     ]
    },
    {
     "data": {
      "image/png": "[encoded data removed]",
      "text/plain": [
       "<Figure size 640x480 with 1 Axes>"
      ]
     },
     "metadata": {},
     "output_type": "display_data"
    }
   ],
   "source": [
    "train_losses = training(rnn_classifier, train_loader, val_loader, 8)"
   ]
  },
  {
   "cell_type": "code",
   "execution_count": 153,
   "metadata": {},
   "outputs": [
    {
     "name": "stdout",
     "output_type": "stream",
     "text": [
      "Real Style:  2 ,  Napoletano\n",
      "Predicted Style:  2 with probability:  96.19741439819336 %\n",
      "Input sequence: \n",
      " ve la dicere comme sta restava de mala voglia a sto pajese ma pocca lo cielo me l ha mannata\n"
     ]
    }
   ],
   "source": [
    "for i ,(data, label) in enumerate(val_loader):\n",
    "    if i == 0:\n",
    "        prova = data[0]\n",
    "        labels = label[0]\n",
    "    else: \n",
    "        break\n",
    "\n",
    "input_sentence = [idx2word[prova[i].item()] for i in range(prova.shape[0])]\n",
    "\n",
    "prova = prova.view(1,prova.shape[0])\n",
    "\n",
    "with torch.no_grad():\n",
    "    pred_label = rnn_classifier(prova)\n",
    "    \n",
    "pred_label = torch.softmax(pred_label, dim = -1)\n",
    "\n",
    "\n",
    "if labels == 0.0:\n",
    "    stile = 'Dante'\n",
    "elif labels == 1.0:\n",
    "    stile = 'Italiano'\n",
    "elif labels == 2.0:\n",
    "    stile = 'Napoletano'\n",
    "\n",
    "\n",
    "pred_style = torch.argmax(pred_label).item()\n",
    "print('Real Style: ', labels.item(), ', ', stile)\n",
    "print('Predicted Style: ', pred_style, 'with probability: ', pred_label[0][0][pred_style].item()*100, '%')\n",
    "print(\"Input sequence: \\n\", ' '.join(input_sentence))"
   ]
  },
  {
   "cell_type": "markdown",
   "metadata": {},
   "source": [
    "# RNN Classifier Accuracy"
   ]
  },
  {
   "cell_type": "code",
   "execution_count": 148,
   "metadata": {},
   "outputs": [
    {
     "name": "stdout",
     "output_type": "stream",
     "text": [
      "Accuracy predicting Dante:  0.9498525073746312\n"
     ]
    }
   ],
   "source": [
    "dante_accuracy = 0\n",
    "with torch.no_grad():\n",
    "    for data in style0_test:\n",
    "        pred_label = rnn_classifier(data)\n",
    "        if torch.argmax(pred_label).item() == 0:\n",
    "            dante_accuracy += 1\n",
    "    \n",
    "dante_accuracy = dante_accuracy/len(style0_test)\n",
    "print('Accuracy predicting Dante: ', dante_accuracy)"
   ]
  },
  {
   "cell_type": "code",
   "execution_count": 150,
   "metadata": {},
   "outputs": [
    {
     "name": "stdout",
     "output_type": "stream",
     "text": [
      "Accuracy predicting Dante:  0.9557522123893806\n"
     ]
    }
   ],
   "source": [
    "italian_accuracy = 0\n",
    "with torch.no_grad():\n",
    "    for data in style1_test:\n",
    "        pred_label = rnn_classifier(data)\n",
    "        if torch.argmax(pred_label).item() == 1:\n",
    "            italian_accuracy += 1\n",
    "    \n",
    "italian_accuracy = italian_accuracy/len(style1_test)\n",
    "print('Accuracy predicting Dante: ', italian_accuracy)"
   ]
  },
  {
   "cell_type": "code",
   "execution_count": 151,
   "metadata": {},
   "outputs": [
    {
     "name": "stdout",
     "output_type": "stream",
     "text": [
      "Accuracy predicting Dante:  0.988\n"
     ]
    }
   ],
   "source": [
    "neapolitan_accuracy = 0\n",
    "with torch.no_grad():\n",
    "    for data in style2_test:\n",
    "        pred_label = rnn_classifier(data)\n",
    "        if torch.argmax(pred_label).item() == 2:\n",
    "            neapolitan_accuracy += 1\n",
    "    \n",
    "neapolitan_accuracy = neapolitan_accuracy/len(style2_test)\n",
    "print('Accuracy predicting Dante: ', neapolitan_accuracy)"
   ]
  },
  {
   "cell_type": "code",
   "execution_count": 152,
   "metadata": {},
   "outputs": [
    {
     "name": "stdout",
     "output_type": "stream",
     "text": [
      "Overall RNN Accuracy:  0.9645349065880039\n"
     ]
    }
   ],
   "source": [
    "overall_accuracy = (dante_accuracy + italian_accuracy + neapolitan_accuracy)/3\n",
    "print('Overall RNN Accuracy: ', overall_accuracy)"
   ]
  },
  {
   "cell_type": "markdown",
   "metadata": {},
   "source": [
    "# GRU Classifier"
   ]
  },
  {
   "cell_type": "code",
   "execution_count": 61,
   "metadata": {},
   "outputs": [],
   "source": [
    "gru_classifier = GRUClassifier(embedding_matrix, hidden_dim, 1)"
   ]
  },
  {
   "cell_type": "code",
   "execution_count": 62,
   "metadata": {},
   "outputs": [
    {
     "name": "stdout",
     "output_type": "stream",
     "text": [
      "# Parameters:  8067\n"
     ]
    }
   ],
   "source": [
    "classifier_params = sum(p.numel() for p in gru_classifier.parameters() if p.requires_grad)\n",
    "print('# Parameters: ', classifier_params)"
   ]
  },
  {
   "cell_type": "code",
   "execution_count": 63,
   "metadata": {},
   "outputs": [
    {
     "name": "stderr",
     "output_type": "stream",
     "text": [
      " 12%|█▎        | 1/8 [00:03<00:25,  3.58s/it]"
     ]
    },
    {
     "name": "stdout",
     "output_type": "stream",
     "text": [
      "====> Epoch: 1 Average train loss: 0.0230, Average val loss: 0.0157\n"
     ]
    },
    {
     "name": "stderr",
     "output_type": "stream",
     "text": [
      " 25%|██▌       | 2/8 [00:06<00:19,  3.26s/it]"
     ]
    },
    {
     "name": "stdout",
     "output_type": "stream",
     "text": [
      "====> Epoch: 2 Average train loss: 0.0094, Average val loss: 0.0068\n"
     ]
    },
    {
     "name": "stderr",
     "output_type": "stream",
     "text": [
      " 38%|███▊      | 3/8 [00:09<00:16,  3.22s/it]"
     ]
    },
    {
     "name": "stdout",
     "output_type": "stream",
     "text": [
      "====> Epoch: 3 Average train loss: 0.0045, Average val loss: 0.0039\n"
     ]
    },
    {
     "name": "stderr",
     "output_type": "stream",
     "text": [
      " 50%|█████     | 4/8 [00:12<00:12,  3.15s/it]"
     ]
    },
    {
     "name": "stdout",
     "output_type": "stream",
     "text": [
      "====> Epoch: 4 Average train loss: 0.0026, Average val loss: 0.0027\n"
     ]
    },
    {
     "name": "stderr",
     "output_type": "stream",
     "text": [
      " 62%|██████▎   | 5/8 [00:15<00:09,  3.09s/it]"
     ]
    },
    {
     "name": "stdout",
     "output_type": "stream",
     "text": [
      "====> Epoch: 5 Average train loss: 0.0017, Average val loss: 0.0021\n"
     ]
    },
    {
     "name": "stderr",
     "output_type": "stream",
     "text": [
      " 75%|███████▌  | 6/8 [00:18<00:06,  3.04s/it]"
     ]
    },
    {
     "name": "stdout",
     "output_type": "stream",
     "text": [
      "====> Epoch: 6 Average train loss: 0.0012, Average val loss: 0.0020\n"
     ]
    },
    {
     "name": "stderr",
     "output_type": "stream",
     "text": [
      " 88%|████████▊ | 7/8 [00:21<00:03,  3.02s/it]"
     ]
    },
    {
     "name": "stdout",
     "output_type": "stream",
     "text": [
      "====> Epoch: 7 Average train loss: 0.0009, Average val loss: 0.0019\n"
     ]
    },
    {
     "name": "stderr",
     "output_type": "stream",
     "text": [
      "100%|██████████| 8/8 [00:25<00:00,  3.13s/it]"
     ]
    },
    {
     "name": "stdout",
     "output_type": "stream",
     "text": [
      "====> Epoch: 8 Average train loss: 0.0007, Average val loss: 0.0017\n"
     ]
    },
    {
     "name": "stderr",
     "output_type": "stream",
     "text": [
      "\n"
     ]
    },
    {
     "data": {
      "image/png": "[encoded data removed]",
      "text/plain": [
       "<Figure size 640x480 with 1 Axes>"
      ]
     },
     "metadata": {},
     "output_type": "display_data"
    }
   ],
   "source": [
    "train_losses = training(gru_classifier, train_loader, val_loader, 8)"
   ]
  },
  {
   "cell_type": "code",
   "execution_count": 154,
   "metadata": {},
   "outputs": [
    {
     "name": "stdout",
     "output_type": "stream",
     "text": [
      "Real Style:  0 ,  Dante\n",
      "Predicted Style:  0 with probability:  99.8595654964447 %\n",
      "Input sequence: \n",
      " parente già era l caponsacco nel mercato disceso giù da fiesole e già era buon cittadino giuda e infangato io\n"
     ]
    }
   ],
   "source": [
    "for i ,(data, label) in enumerate(val_loader):\n",
    "    if i == 0:\n",
    "        prova = data[0]\n",
    "        labels = label[0]\n",
    "    else: \n",
    "        break\n",
    "\n",
    "input_sentence = [idx2word[prova[i].item()] for i in range(prova.shape[0])]\n",
    "\n",
    "prova = prova.view(1,prova.shape[0])\n",
    "\n",
    "with torch.no_grad():\n",
    "    pred_label = gru_classifier(prova)\n",
    "    \n",
    "pred_label = torch.softmax(pred_label, dim = -1)\n",
    "\n",
    "\n",
    "if labels == 0.0:\n",
    "    stile = 'Dante'\n",
    "elif labels == 1.0:\n",
    "    stile = 'Italiano'\n",
    "elif labels == 2.0:\n",
    "    stile = 'Napoletano'\n",
    "\n",
    "\n",
    "pred_style = torch.argmax(pred_label).item()\n",
    "print('Real Style: ', labels.item(), ', ', stile)\n",
    "print('Predicted Style: ', pred_style, 'with probability: ', pred_label[0][0][pred_style].item()*100, '%')\n",
    "print(\"Input sequence: \\n\", ' '.join(input_sentence))"
   ]
  },
  {
   "cell_type": "markdown",
   "metadata": {},
   "source": [
    "# GRU Classifier Accuracy"
   ]
  },
  {
   "cell_type": "code",
   "execution_count": 155,
   "metadata": {},
   "outputs": [
    {
     "name": "stdout",
     "output_type": "stream",
     "text": [
      "Accuracy predicting Dante:  0.9754178957718781\n"
     ]
    }
   ],
   "source": [
    "dante_accuracy = 0\n",
    "with torch.no_grad():\n",
    "    for data in style0_test:\n",
    "        pred_label = gru_classifier(data)\n",
    "        if torch.argmax(pred_label, dim=-1).item() == 0:\n",
    "            dante_accuracy += 1\n",
    "    \n",
    "dante_accuracy = dante_accuracy/len(style0_test)\n",
    "print('Accuracy predicting Dante: ', dante_accuracy)"
   ]
  },
  {
   "cell_type": "code",
   "execution_count": 156,
   "metadata": {},
   "outputs": [
    {
     "name": "stdout",
     "output_type": "stream",
     "text": [
      "Accuracy predicting Dante:  0.9901671583087512\n"
     ]
    }
   ],
   "source": [
    "italian_accuracy = 0\n",
    "with torch.no_grad():\n",
    "    for data in style1_test:\n",
    "        pred_label = gru_classifier(data)\n",
    "        if torch.argmax(pred_label, dim = -1).item() == 1:\n",
    "            italian_accuracy += 1\n",
    "    \n",
    "italian_accuracy = italian_accuracy/len(style1_test)\n",
    "print('Accuracy predicting Dante: ', italian_accuracy)"
   ]
  },
  {
   "cell_type": "code",
   "execution_count": 157,
   "metadata": {},
   "outputs": [
    {
     "name": "stdout",
     "output_type": "stream",
     "text": [
      "Accuracy predicting Dante:  0.982\n"
     ]
    }
   ],
   "source": [
    "neapolitan_accuracy = 0\n",
    "with torch.no_grad():\n",
    "    for data in style2_test:\n",
    "        pred_label = gru_classifier(data)\n",
    "        if torch.argmax(pred_label, dim = -1).item() == 2:\n",
    "            neapolitan_accuracy += 1\n",
    "    \n",
    "neapolitan_accuracy = neapolitan_accuracy/len(style2_test)\n",
    "print('Accuracy predicting Dante: ', neapolitan_accuracy)"
   ]
  },
  {
   "cell_type": "code",
   "execution_count": 158,
   "metadata": {},
   "outputs": [
    {
     "name": "stdout",
     "output_type": "stream",
     "text": [
      "Overall GRU Accuracy:  0.9825283513602097\n"
     ]
    }
   ],
   "source": [
    "overall_accuracy = (dante_accuracy + italian_accuracy + neapolitan_accuracy)/3\n",
    "print('Overall GRU Accuracy: ', overall_accuracy)"
   ]
  },
  {
   "cell_type": "markdown",
   "metadata": {},
   "source": [
    "# LSTM Classifier"
   ]
  },
  {
   "cell_type": "code",
   "execution_count": 68,
   "metadata": {},
   "outputs": [],
   "source": [
    "lstm_classifier = LSTMClassifier(embedding_matrix, hidden_dim, 1)"
   ]
  },
  {
   "cell_type": "code",
   "execution_count": 69,
   "metadata": {},
   "outputs": [
    {
     "name": "stdout",
     "output_type": "stream",
     "text": [
      "# Parameters:  10547\n"
     ]
    }
   ],
   "source": [
    "classifier_params = sum(p.numel() for p in lstm_classifier.parameters() if p.requires_grad)\n",
    "print('# Parameters: ', classifier_params)"
   ]
  },
  {
   "cell_type": "code",
   "execution_count": 70,
   "metadata": {},
   "outputs": [
    {
     "name": "stderr",
     "output_type": "stream",
     "text": [
      " 12%|█▎        | 1/8 [00:01<00:11,  1.71s/it]"
     ]
    },
    {
     "name": "stdout",
     "output_type": "stream",
     "text": [
      "====> Epoch: 1 Average train loss: 0.0252, Average val loss: 0.0110\n"
     ]
    },
    {
     "name": "stderr",
     "output_type": "stream",
     "text": [
      " 25%|██▌       | 2/8 [00:03<00:09,  1.62s/it]"
     ]
    },
    {
     "name": "stdout",
     "output_type": "stream",
     "text": [
      "====> Epoch: 2 Average train loss: 0.0052, Average val loss: 0.0031\n"
     ]
    },
    {
     "name": "stderr",
     "output_type": "stream",
     "text": [
      " 38%|███▊      | 3/8 [00:04<00:07,  1.53s/it]"
     ]
    },
    {
     "name": "stdout",
     "output_type": "stream",
     "text": [
      "====> Epoch: 3 Average train loss: 0.0021, Average val loss: 0.0021\n"
     ]
    },
    {
     "name": "stderr",
     "output_type": "stream",
     "text": [
      " 50%|█████     | 4/8 [00:06<00:06,  1.51s/it]"
     ]
    },
    {
     "name": "stdout",
     "output_type": "stream",
     "text": [
      "====> Epoch: 4 Average train loss: 0.0013, Average val loss: 0.0017\n"
     ]
    },
    {
     "name": "stderr",
     "output_type": "stream",
     "text": [
      " 62%|██████▎   | 5/8 [00:07<00:04,  1.49s/it]"
     ]
    },
    {
     "name": "stdout",
     "output_type": "stream",
     "text": [
      "====> Epoch: 5 Average train loss: 0.0010, Average val loss: 0.0015\n"
     ]
    },
    {
     "name": "stderr",
     "output_type": "stream",
     "text": [
      " 75%|███████▌  | 6/8 [00:09<00:02,  1.47s/it]"
     ]
    },
    {
     "name": "stdout",
     "output_type": "stream",
     "text": [
      "====> Epoch: 6 Average train loss: 0.0007, Average val loss: 0.0019\n"
     ]
    },
    {
     "name": "stderr",
     "output_type": "stream",
     "text": [
      " 88%|████████▊ | 7/8 [00:10<00:01,  1.46s/it]"
     ]
    },
    {
     "name": "stdout",
     "output_type": "stream",
     "text": [
      "====> Epoch: 7 Average train loss: 0.0006, Average val loss: 0.0014\n"
     ]
    },
    {
     "name": "stderr",
     "output_type": "stream",
     "text": [
      "100%|██████████| 8/8 [00:11<00:00,  1.49s/it]"
     ]
    },
    {
     "name": "stdout",
     "output_type": "stream",
     "text": [
      "====> Epoch: 8 Average train loss: 0.0005, Average val loss: 0.0012\n"
     ]
    },
    {
     "name": "stderr",
     "output_type": "stream",
     "text": [
      "\n"
     ]
    },
    {
     "data": {
      "image/png": "[encoded data removed]",
      "text/plain": [
       "<Figure size 640x480 with 1 Axes>"
      ]
     },
     "metadata": {},
     "output_type": "display_data"
    }
   ],
   "source": [
    "train_losses = training(lstm_classifier, train_loader, val_loader, 8)"
   ]
  },
  {
   "cell_type": "code",
   "execution_count": 159,
   "metadata": {},
   "outputs": [
    {
     "name": "stdout",
     "output_type": "stream",
     "text": [
      "Real Style:  0 ,  Dante\n",
      "Predicted Style:  0 with probability:  99.85785484313965 %\n",
      "Input sequence: \n",
      " menti non capere in triangol due ottusi così vedi le cose contingenti anzi che sieno in sè mirando il punto\n"
     ]
    }
   ],
   "source": [
    "for i ,(data, label) in enumerate(val_loader):\n",
    "    if i == 0:\n",
    "        prova = data[0]\n",
    "        labels = label[0]\n",
    "    else: \n",
    "        break\n",
    "\n",
    "input_sentence = [idx2word[prova[i].item()] for i in range(prova.shape[0])]\n",
    "\n",
    "prova = prova.view(1,prova.shape[0])\n",
    "\n",
    "with torch.no_grad():\n",
    "    pred_label = lstm_classifier(prova)\n",
    "    \n",
    "pred_label = torch.softmax(pred_label, dim = -1)\n",
    "\n",
    "\n",
    "if labels == 0.0:\n",
    "    stile = 'Dante'\n",
    "elif labels == 1.0:\n",
    "    stile = 'Italiano'\n",
    "elif labels == 2.0:\n",
    "    stile = 'Napoletano'\n",
    "\n",
    "\n",
    "pred_style = torch.argmax(pred_label).item()\n",
    "print('Real Style: ', labels.item(), ', ', stile)\n",
    "print('Predicted Style: ', pred_style, 'with probability: ', pred_label[0][0][pred_style].item()*100, '%')\n",
    "print(\"Input sequence: \\n\", ' '.join(input_sentence))"
   ]
  },
  {
   "cell_type": "code",
   "execution_count": 71,
   "metadata": {},
   "outputs": [
    {
     "name": "stdout",
     "output_type": "stream",
     "text": [
      "Accuracy predicting Dante:  0.9862340216322517\n"
     ]
    }
   ],
   "source": [
    "dante_accuracy = 0\n",
    "with torch.no_grad():\n",
    "    for data in style0_test:\n",
    "        pred_label = lstm_classifier(data)\n",
    "        if torch.argmax(pred_label).item() == 0:\n",
    "            dante_accuracy += 1\n",
    "    \n",
    "dante_accuracy = dante_accuracy/len(style0_test)\n",
    "print('Accuracy predicting Dante: ', dante_accuracy)"
   ]
  },
  {
   "cell_type": "code",
   "execution_count": 72,
   "metadata": {},
   "outputs": [
    {
     "name": "stdout",
     "output_type": "stream",
     "text": [
      "Accuracy predicting Dante:  0.9941002949852508\n"
     ]
    }
   ],
   "source": [
    "italian_accuracy = 0\n",
    "with torch.no_grad():\n",
    "    for data in style1_test:\n",
    "        pred_label = lstm_classifier(data)\n",
    "        if torch.argmax(pred_label).item() == 1:\n",
    "            italian_accuracy += 1\n",
    "    \n",
    "italian_accuracy = italian_accuracy/len(style1_test)\n",
    "print('Accuracy predicting Dante: ', italian_accuracy)"
   ]
  },
  {
   "cell_type": "code",
   "execution_count": 73,
   "metadata": {},
   "outputs": [
    {
     "name": "stdout",
     "output_type": "stream",
     "text": [
      "Accuracy predicting Dante:  0.99\n"
     ]
    }
   ],
   "source": [
    "neapolitan_accuracy = 0\n",
    "with torch.no_grad():\n",
    "    for data in style2_test:\n",
    "        pred_label = lstm_classifier(data)\n",
    "        if torch.argmax(pred_label).item() == 2:\n",
    "            neapolitan_accuracy += 1\n",
    "    \n",
    "neapolitan_accuracy = neapolitan_accuracy/len(style2_test)\n",
    "print('Accuracy predicting Dante: ', neapolitan_accuracy)"
   ]
  },
  {
   "cell_type": "code",
   "execution_count": 74,
   "metadata": {},
   "outputs": [
    {
     "name": "stdout",
     "output_type": "stream",
     "text": [
      "Overall LSTM Accuracy:  0.9901114388725007\n"
     ]
    }
   ],
   "source": [
    "overall_accuracy = (dante_accuracy + italian_accuracy + neapolitan_accuracy)/3\n",
    "print('Overall LSTM Accuracy: ', overall_accuracy)"
   ]
  },
  {
   "cell_type": "markdown",
   "metadata": {},
   "source": [
    "# Transformer Classifier"
   ]
  },
  {
   "cell_type": "code",
   "execution_count": 161,
   "metadata": {},
   "outputs": [],
   "source": [
    "t_classifier = TClassifier(embedding_matrix, hidden_dim, 1)"
   ]
  },
  {
   "cell_type": "code",
   "execution_count": 162,
   "metadata": {},
   "outputs": [
    {
     "name": "stdout",
     "output_type": "stream",
     "text": [
      "# Parameters:  3188599\n"
     ]
    }
   ],
   "source": [
    "classifier_params = sum(p.numel() for p in t_classifier.parameters() if p.requires_grad)\n",
    "print('# Parameters: ', classifier_params)"
   ]
  },
  {
   "cell_type": "code",
   "execution_count": 163,
   "metadata": {},
   "outputs": [
    {
     "name": "stderr",
     "output_type": "stream",
     "text": [
      " 20%|██        | 1/5 [00:29<01:59, 29.91s/it]"
     ]
    },
    {
     "name": "stdout",
     "output_type": "stream",
     "text": [
      "====> Epoch: 1 Average train loss: 0.0012, Average val loss: 0.0006\n"
     ]
    },
    {
     "name": "stderr",
     "output_type": "stream",
     "text": [
      " 40%|████      | 2/5 [01:00<01:30, 30.08s/it]"
     ]
    },
    {
     "name": "stdout",
     "output_type": "stream",
     "text": [
      "====> Epoch: 2 Average train loss: 0.0003, Average val loss: 0.0007\n"
     ]
    },
    {
     "name": "stderr",
     "output_type": "stream",
     "text": [
      " 60%|██████    | 3/5 [01:30<01:00, 30.27s/it]"
     ]
    },
    {
     "name": "stdout",
     "output_type": "stream",
     "text": [
      "====> Epoch: 3 Average train loss: 0.0002, Average val loss: 0.0009\n"
     ]
    },
    {
     "name": "stderr",
     "output_type": "stream",
     "text": [
      " 80%|████████  | 4/5 [02:04<00:31, 31.52s/it]"
     ]
    },
    {
     "name": "stdout",
     "output_type": "stream",
     "text": [
      "====> Epoch: 4 Average train loss: 0.0001, Average val loss: 0.0012\n"
     ]
    },
    {
     "name": "stderr",
     "output_type": "stream",
     "text": [
      "100%|██████████| 5/5 [02:36<00:00, 31.21s/it]"
     ]
    },
    {
     "name": "stdout",
     "output_type": "stream",
     "text": [
      "====> Epoch: 5 Average train loss: 0.0001, Average val loss: 0.0012\n"
     ]
    },
    {
     "name": "stderr",
     "output_type": "stream",
     "text": [
      "\n"
     ]
    },
    {
     "data": {
      "image/png": "[encoded data removed]",
      "text/plain": [
       "<Figure size 640x480 with 1 Axes>"
      ]
     },
     "metadata": {},
     "output_type": "display_data"
    }
   ],
   "source": [
    "train_losses = training(t_classifier, train_loader, val_loader, 5)"
   ]
  },
  {
   "cell_type": "code",
   "execution_count": 164,
   "metadata": {},
   "outputs": [
    {
     "name": "stdout",
     "output_type": "stream",
     "text": [
      "Real Style:  0 ,  Dante\n",
      "Predicted Style:  0 with probability:  99.9979019165039 %\n",
      "Input sequence: \n",
      " t eran possenti il nome del bel fior ch io sempre invoco e mane e sera tutto mi ristrinse l\n"
     ]
    }
   ],
   "source": [
    "for i ,(data, label) in enumerate(val_loader):\n",
    "    if i == 0:\n",
    "        prova = data[0]\n",
    "        labels = label[0]\n",
    "    else: \n",
    "        break\n",
    "\n",
    "input_sentence = [idx2word[prova[i].item()] for i in range(prova.shape[0])]\n",
    "\n",
    "prova = prova.view(1,prova.shape[0])\n",
    "\n",
    "with torch.no_grad():\n",
    "    pred_label = t_classifier(prova)\n",
    "    \n",
    "pred_label = torch.softmax(pred_label, dim = -1)\n",
    "\n",
    "\n",
    "if labels == 0.0:\n",
    "    stile = 'Dante'\n",
    "elif labels == 1.0:\n",
    "    stile = 'Italiano'\n",
    "elif labels == 2.0:\n",
    "    stile = 'Napoletano'\n",
    "\n",
    "\n",
    "pred_style = torch.argmax(pred_label).item()\n",
    "print('Real Style: ', labels.item(), ', ', stile)\n",
    "print('Predicted Style: ', pred_style, 'with probability: ', pred_label[0][0][pred_style].item()*100, '%')\n",
    "print(\"Input sequence: \\n\", ' '.join(input_sentence))"
   ]
  },
  {
   "cell_type": "markdown",
   "metadata": {},
   "source": [
    "# Transformer Classifier Accuracy"
   ]
  },
  {
   "cell_type": "code",
   "execution_count": 165,
   "metadata": {},
   "outputs": [
    {
     "name": "stdout",
     "output_type": "stream",
     "text": [
      "Accuracy predicting Dante:  0.9734513274336283\n"
     ]
    }
   ],
   "source": [
    "with torch.no_grad():\n",
    "    pred_labels = t_classifier(style0_test)\n",
    "\n",
    "pred_labels = torch.argmax(pred_labels,dim=-1).squeeze(0)\n",
    "\n",
    "dante_accuracy = 0\n",
    "for lab in pred_labels:\n",
    "    if lab.item() == 0:\n",
    "        dante_accuracy +=1\n",
    "\n",
    "dante_accuracy = dante_accuracy/len(style0_test)\n",
    "print('Accuracy predicting Dante: ', dante_accuracy)"
   ]
  },
  {
   "cell_type": "code",
   "execution_count": 166,
   "metadata": {},
   "outputs": [
    {
     "name": "stdout",
     "output_type": "stream",
     "text": [
      "Accuracy predicting Italian:  0.9990167158308751\n"
     ]
    }
   ],
   "source": [
    "with torch.no_grad():\n",
    "    pred_labels = t_classifier(style1_test)\n",
    "\n",
    "pred_labels = torch.argmax(pred_labels,dim=-1).squeeze(0)\n",
    "\n",
    "italian_accuracy = 0\n",
    "for lab in pred_labels:\n",
    "    if lab.item() == 1:\n",
    "        italian_accuracy +=1\n",
    "\n",
    "italian_accuracy = italian_accuracy/len(style1_test)\n",
    "print('Accuracy predicting Italian: ', italian_accuracy)"
   ]
  },
  {
   "cell_type": "code",
   "execution_count": 167,
   "metadata": {},
   "outputs": [
    {
     "name": "stdout",
     "output_type": "stream",
     "text": [
      "Accuracy predicting Neapolitan:  1.0\n"
     ]
    }
   ],
   "source": [
    "with torch.no_grad():\n",
    "    pred_labels = t_classifier(style2_test)\n",
    "\n",
    "pred_labels = torch.argmax(pred_labels,dim=-1).squeeze(0)\n",
    "\n",
    "neapolitan_accuracy = 0\n",
    "for lab in pred_labels:\n",
    "    if lab.item() == 2:\n",
    "        neapolitan_accuracy +=1\n",
    "\n",
    "neapolitan_accuracy = neapolitan_accuracy/len(style2_test)\n",
    "print('Accuracy predicting Neapolitan: ', neapolitan_accuracy)"
   ]
  },
  {
   "cell_type": "code",
   "execution_count": 168,
   "metadata": {},
   "outputs": [
    {
     "name": "stdout",
     "output_type": "stream",
     "text": [
      "Overall Transformer Accuracy:  0.9908226810881677\n"
     ]
    }
   ],
   "source": [
    "overall_accuracy = (dante_accuracy + italian_accuracy + neapolitan_accuracy)/3\n",
    "print('Overall Transformer Accuracy: ', overall_accuracy)"
   ]
  },
  {
   "cell_type": "code",
   "execution_count": null,
   "metadata": {},
   "outputs": [],
   "source": []
  }
 ],
 "metadata": {
  "kernelspec": {
   "display_name": "Python 3",
   "language": "python",
   "name": "python3"
  },
  "language_info": {
   "codemirror_mode": {
    "name": "ipython",
    "version": 3
   },
   "file_extension": ".py",
   "mimetype": "text/x-python",
   "name": "python",
   "nbconvert_exporter": "python",
   "pygments_lexer": "ipython3",
   "version": "3.8.10"
  }
 },
 "nbformat": 4,
 "nbformat_minor": 2
}
