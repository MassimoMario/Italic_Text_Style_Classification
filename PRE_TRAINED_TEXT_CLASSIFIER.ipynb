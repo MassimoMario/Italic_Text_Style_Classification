{
 "cells": [
  {
   "cell_type": "code",
   "execution_count": 1,
   "metadata": {},
   "outputs": [],
   "source": [
    "import numpy as np\n",
    "from tqdm import tqdm\n",
    "import matplotlib.pyplot as plt\n",
    "import torch\n",
    "import torch.nn as nn\n",
    "from torch.nn import functional as F\n",
    "from torch.utils.data import DataLoader,TensorDataset\n",
    "from gensim.models import Word2Vec\n",
    "from models import CNNClassifier, RNNClassifier, GRUClassifier, LSTMClassifier, TClassifier\n",
    "from config_dataset import custom_dataset\n",
    "from accuracy import classifier_accuracy"
   ]
  },
  {
   "cell_type": "code",
   "execution_count": 2,
   "metadata": {},
   "outputs": [],
   "source": [
    "device = torch.device(\"cuda\" if torch.cuda.is_available() else \"cpu\")"
   ]
  },
  {
   "cell_type": "code",
   "execution_count": 3,
   "metadata": {},
   "outputs": [],
   "source": [
    "sequence_length = 20\n",
    "batch_size = 32\n",
    "embedding_dim = 300\n",
    "hidden_dim = 8"
   ]
  },
  {
   "cell_type": "code",
   "execution_count": 4,
   "metadata": {},
   "outputs": [
    {
     "name": "stdout",
     "output_type": "stream",
     "text": [
      "len train loader:  633\n",
      "len val loader:  80\n",
      "total number of training samples:  20246\n",
      "total number of validation samples:  2529\n",
      "vocab size:  26606\n"
     ]
    }
   ],
   "source": [
    "train_loader, val_loader, embedding_dim, embedding_matrix, word2vec, idx2word, word2idx, vocab_size, style0_test, style1_test, style2_test = custom_dataset('text_corpus/divina_commedia.txt',\n",
    "                                                                                                                                                        'text_corpus/uno_nessuno_e_i_malavoglia.txt',\n",
    "                                                                                                                                                        'text_corpus/lo_cunto_de_li_cunti.txt',\n",
    "                                                                                                                                                        sequence_length,\n",
    "                                                                                                                                                        embedding_dim,\n",
    "                                                                                                                                                        batch_size,\n",
    "                                                                                                                                                        0.8)\n",
    "print('len train loader: ', len(train_loader))\n",
    "print('len val loader: ', len(val_loader))\n",
    "print('total number of training samples: ', len(train_loader.dataset))\n",
    "print('total number of validation samples: ', len(val_loader.dataset))\n",
    "print('vocab size: ', vocab_size)"
   ]
  },
  {
   "cell_type": "markdown",
   "metadata": {},
   "source": [
    "# CNN Classifier"
   ]
  },
  {
   "cell_type": "code",
   "execution_count": 5,
   "metadata": {},
   "outputs": [
    {
     "name": "stdout",
     "output_type": "stream",
     "text": [
      "# Parameters:  8139\n"
     ]
    }
   ],
   "source": [
    "cnn_classifier = CNNClassifier(embedding_matrix, 3, 3, [3,3,3])\n",
    "\n",
    "cnn_classifier.load_state_dict(torch.load('pretrained/cnn_classifier.pth'))\n",
    "\n",
    "classifier_params = sum(p.numel() for p in cnn_classifier.parameters() if p.requires_grad)\n",
    "print('# Parameters: ', classifier_params)"
   ]
  },
  {
   "cell_type": "code",
   "execution_count": 6,
   "metadata": {},
   "outputs": [
    {
     "name": "stdout",
     "output_type": "stream",
     "text": [
      "Accuracy predicting Dante:  0.9852507374631269\n",
      "Accuracy predicting Italian:  0.992133726647001\n",
      "Accuracy predicting Neapolitan:  0.998\n",
      "Overall  CNN  Accuracy:  0.9917948213700427\n"
     ]
    }
   ],
   "source": [
    "classifier_accuracy(cnn_classifier, style0_test, style1_test, style2_test, 'CNN')"
   ]
  },
  {
   "cell_type": "code",
   "execution_count": 9,
   "metadata": {},
   "outputs": [
    {
     "name": "stdout",
     "output_type": "stream",
     "text": [
      "Real Style:  1 ,  Italiano\n",
      "Predicted Style:  1 with probability:  57.60539770126343 %\n",
      "Input sequence: \n",
      " e vedrai come andrà a finire vedrai che arriverà all orecchio del vicario e ti leveranno la medaglia di figlia\n"
     ]
    }
   ],
   "source": [
    "for i ,(data, label) in enumerate(val_loader):\n",
    "    if i == 0:\n",
    "        prova = data[0]\n",
    "        labels = label[0]\n",
    "    else: \n",
    "        break\n",
    "\n",
    "input_sentence = [idx2word[prova[i].item()] for i in range(prova.shape[0])]\n",
    "\n",
    "prova = prova.view(1,prova.shape[0])\n",
    "\n",
    "with torch.no_grad():\n",
    "    pred_label = cnn_classifier(prova)\n",
    "    \n",
    "pred_label = torch.softmax(pred_label, dim = -1)\n",
    "\n",
    "\n",
    "if labels == 0.0:\n",
    "    stile = 'Dante'\n",
    "elif labels == 1.0:\n",
    "    stile = 'Italiano'\n",
    "elif labels == 2.0:\n",
    "    stile = 'Napoletano'\n",
    "\n",
    "\n",
    "pred_style = torch.argmax(pred_label).item()\n",
    "print('Real Style: ', labels.item(), ', ', stile)\n",
    "print('Predicted Style: ', pred_style, 'with probability: ', pred_label[0][0][pred_style].item()*100, '%')\n",
    "print(\"Input sequence: \\n\", ' '.join(input_sentence))"
   ]
  },
  {
   "cell_type": "markdown",
   "metadata": {},
   "source": [
    "# RNN Classifier"
   ]
  },
  {
   "cell_type": "code",
   "execution_count": 7,
   "metadata": {},
   "outputs": [
    {
     "name": "stdout",
     "output_type": "stream",
     "text": [
      "# Parameters:  3107\n"
     ]
    }
   ],
   "source": [
    "rnn_classifier = RNNClassifier(embedding_matrix, hidden_dim, 1)\n",
    "\n",
    "rnn_classifier.load_state_dict(torch.load('pretrained/rnn_classifier.pth'))\n",
    "\n",
    "classifier_params = sum(p.numel() for p in rnn_classifier.parameters() if p.requires_grad)\n",
    "print('# Parameters: ', classifier_params)"
   ]
  },
  {
   "cell_type": "code",
   "execution_count": 8,
   "metadata": {},
   "outputs": [
    {
     "name": "stdout",
     "output_type": "stream",
     "text": [
      "Accuracy predicting Dante:  0.9823008849557522\n",
      "Accuracy predicting Italian:  0.976401179941003\n",
      "Accuracy predicting Neapolitan:  0.978\n",
      "Overall  RNN  Accuracy:  0.9789006882989183\n"
     ]
    }
   ],
   "source": [
    "classifier_accuracy(rnn_classifier, style0_test, style1_test, style2_test, 'RNN')"
   ]
  },
  {
   "cell_type": "code",
   "execution_count": 16,
   "metadata": {},
   "outputs": [
    {
     "name": "stdout",
     "output_type": "stream",
     "text": [
      "Real Style:  1 ,  Italiano\n",
      "Predicted Style:  2 with probability:  83.76763463020325 %\n",
      "Input sequence: \n",
      " fortuna altrove le poverette s intendevano fra di loro appunto per questo quando discorrevano a bassa voce col capo chino\n"
     ]
    }
   ],
   "source": [
    "for i ,(data, label) in enumerate(val_loader):\n",
    "    if i == 0:\n",
    "        prova = data[0]\n",
    "        labels = label[0]\n",
    "    else: \n",
    "        break\n",
    "\n",
    "input_sentence = [idx2word[prova[i].item()] for i in range(prova.shape[0])]\n",
    "\n",
    "prova = prova.view(1,prova.shape[0])\n",
    "\n",
    "with torch.no_grad():\n",
    "    pred_label = rnn_classifier(prova)\n",
    "    \n",
    "pred_label = torch.softmax(pred_label, dim = -1)\n",
    "\n",
    "\n",
    "if labels == 0.0:\n",
    "    stile = 'Dante'\n",
    "elif labels == 1.0:\n",
    "    stile = 'Italiano'\n",
    "elif labels == 2.0:\n",
    "    stile = 'Napoletano'\n",
    "\n",
    "\n",
    "pred_style = torch.argmax(pred_label).item()\n",
    "print('Real Style: ', labels.item(), ', ', stile)\n",
    "print('Predicted Style: ', pred_style, 'with probability: ', pred_label[0][0][pred_style].item()*100, '%')\n",
    "print(\"Input sequence: \\n\", ' '.join(input_sentence))"
   ]
  },
  {
   "cell_type": "markdown",
   "metadata": {},
   "source": [
    "# GRU Classifier"
   ]
  },
  {
   "cell_type": "code",
   "execution_count": 9,
   "metadata": {},
   "outputs": [
    {
     "name": "stdout",
     "output_type": "stream",
     "text": [
      "# Parameters:  8067\n"
     ]
    }
   ],
   "source": [
    "gru_classifier = GRUClassifier(embedding_matrix, hidden_dim, 1)\n",
    "\n",
    "gru_classifier.load_state_dict(torch.load('pretrained/gru_classifier.pth'))\n",
    "\n",
    "classifier_params = sum(p.numel() for p in gru_classifier.parameters() if p.requires_grad)\n",
    "print('# Parameters: ', classifier_params)"
   ]
  },
  {
   "cell_type": "code",
   "execution_count": 10,
   "metadata": {},
   "outputs": [
    {
     "name": "stdout",
     "output_type": "stream",
     "text": [
      "Accuracy predicting Dante:  0.9754178957718781\n",
      "Accuracy predicting Italian:  0.992133726647001\n",
      "Accuracy predicting Neapolitan:  0.996\n",
      "Overall  GRU  Accuracy:  0.987850540806293\n"
     ]
    }
   ],
   "source": [
    "classifier_accuracy(gru_classifier, style0_test, style1_test, style2_test, 'GRU')"
   ]
  },
  {
   "cell_type": "code",
   "execution_count": 15,
   "metadata": {},
   "outputs": [
    {
     "name": "stdout",
     "output_type": "stream",
     "text": [
      "Real Style:  1 ,  Italiano\n",
      "Predicted Style:  1 with probability:  99.52223896980286 %\n",
      "Input sequence: \n",
      " cercare massaro filippo nella bottega di pizzuto tastando i muri col bastone sua figlia faceva la sdegnosa protestando che non\n"
     ]
    }
   ],
   "source": [
    "for i ,(data, label) in enumerate(val_loader):\n",
    "    if i == 0:\n",
    "        prova = data[0]\n",
    "        labels = label[0]\n",
    "    else: \n",
    "        break\n",
    "\n",
    "input_sentence = [idx2word[prova[i].item()] for i in range(prova.shape[0])]\n",
    "\n",
    "prova = prova.view(1,prova.shape[0])\n",
    "\n",
    "with torch.no_grad():\n",
    "    pred_label = gru_classifier(prova)\n",
    "    \n",
    "pred_label = torch.softmax(pred_label, dim = -1)\n",
    "\n",
    "\n",
    "if labels == 0.0:\n",
    "    stile = 'Dante'\n",
    "elif labels == 1.0:\n",
    "    stile = 'Italiano'\n",
    "elif labels == 2.0:\n",
    "    stile = 'Napoletano'\n",
    "\n",
    "\n",
    "pred_style = torch.argmax(pred_label).item()\n",
    "print('Real Style: ', labels.item(), ', ', stile)\n",
    "print('Predicted Style: ', pred_style, 'with probability: ', pred_label[0][0][pred_style].item()*100, '%')\n",
    "print(\"Input sequence: \\n\", ' '.join(input_sentence))"
   ]
  },
  {
   "cell_type": "markdown",
   "metadata": {},
   "source": [
    "# LSTM Classifier"
   ]
  },
  {
   "cell_type": "code",
   "execution_count": 11,
   "metadata": {},
   "outputs": [
    {
     "name": "stdout",
     "output_type": "stream",
     "text": [
      "# Parameters:  10547\n"
     ]
    }
   ],
   "source": [
    "lstm_classifier = LSTMClassifier(embedding_matrix, hidden_dim, 1)\n",
    "\n",
    "lstm_classifier.load_state_dict(torch.load('pretrained/lstm_classifier.pth'))\n",
    "\n",
    "classifier_params = sum(p.numel() for p in lstm_classifier.parameters() if p.requires_grad)\n",
    "print('# Parameters: ', classifier_params)"
   ]
  },
  {
   "cell_type": "code",
   "execution_count": 12,
   "metadata": {},
   "outputs": [
    {
     "name": "stdout",
     "output_type": "stream",
     "text": [
      "Accuracy predicting Dante:  0.983284169124877\n",
      "Accuracy predicting Italian:  0.9950835791543756\n",
      "Accuracy predicting Neapolitan:  0.996\n",
      "Overall  LSTM  Accuracy:  0.9914559160930843\n"
     ]
    }
   ],
   "source": [
    "classifier_accuracy(lstm_classifier, style0_test, style1_test, style2_test, 'LSTM')"
   ]
  },
  {
   "cell_type": "code",
   "execution_count": 20,
   "metadata": {},
   "outputs": [
    {
     "name": "stdout",
     "output_type": "stream",
     "text": [
      "Real Style:  2 ,  Napoletano\n",
      "Predicted Style:  2 with probability:  99.6376097202301 %\n",
      "Input sequence: \n",
      " sta sera lo fatte festa sarraggio cannariato da mammata ed io non tanto averraggio tormiento de scrastareme da sto nigro\n"
     ]
    }
   ],
   "source": [
    "for i ,(data, label) in enumerate(val_loader):\n",
    "    if i == 0:\n",
    "        prova = data[0]\n",
    "        labels = label[0]\n",
    "    else: \n",
    "        break\n",
    "\n",
    "input_sentence = [idx2word[prova[i].item()] for i in range(prova.shape[0])]\n",
    "\n",
    "prova = prova.view(1,prova.shape[0])\n",
    "\n",
    "with torch.no_grad():\n",
    "    pred_label = lstm_classifier(prova)\n",
    "    \n",
    "pred_label = torch.softmax(pred_label, dim = -1)\n",
    "\n",
    "\n",
    "if labels == 0.0:\n",
    "    stile = 'Dante'\n",
    "elif labels == 1.0:\n",
    "    stile = 'Italiano'\n",
    "elif labels == 2.0:\n",
    "    stile = 'Napoletano'\n",
    "\n",
    "\n",
    "pred_style = torch.argmax(pred_label).item()\n",
    "print('Real Style: ', labels.item(), ', ', stile)\n",
    "print('Predicted Style: ', pred_style, 'with probability: ', pred_label[0][0][pred_style].item()*100, '%')\n",
    "print(\"Input sequence: \\n\", ' '.join(input_sentence))"
   ]
  },
  {
   "cell_type": "markdown",
   "metadata": {},
   "source": [
    "# Transformer Classifier"
   ]
  },
  {
   "cell_type": "code",
   "execution_count": 13,
   "metadata": {},
   "outputs": [
    {
     "name": "stdout",
     "output_type": "stream",
     "text": [
      "# Parameters:  3188599\n"
     ]
    }
   ],
   "source": [
    "t_classifier = TClassifier(embedding_matrix)\n",
    "\n",
    "t_classifier.load_state_dict(torch.load('pretrained/t_classifier.pth'))\n",
    "\n",
    "classifier_params = sum(p.numel() for p in t_classifier.parameters() if p.requires_grad)\n",
    "print('# Parameters: ', classifier_params)"
   ]
  },
  {
   "cell_type": "code",
   "execution_count": 14,
   "metadata": {},
   "outputs": [
    {
     "name": "stdout",
     "output_type": "stream",
     "text": [
      "Accuracy predicting Dante:  0.984267453294002\n",
      "Accuracy predicting Italian:  0.9950835791543756\n",
      "Accuracy predicting Neapolitan:  1.0\n",
      "Overall  Transformer  Accuracy:  0.9931170108161259\n"
     ]
    }
   ],
   "source": [
    "classifier_accuracy(t_classifier, style0_test, style1_test, style2_test, 'Transformer')"
   ]
  },
  {
   "cell_type": "code",
   "execution_count": 23,
   "metadata": {},
   "outputs": [
    {
     "name": "stdout",
     "output_type": "stream",
     "text": [
      "Real Style:  0 ,  Dante\n",
      "Predicted Style:  0 with probability:  99.9997615814209 %\n",
      "Input sequence: \n",
      " sì fermo che pur con cibi di liquor d ulivi lievemente passava caldi e geli contento ne pensier contemplativi render\n"
     ]
    }
   ],
   "source": [
    "for i ,(data, label) in enumerate(val_loader):\n",
    "    if i == 0:\n",
    "        prova = data[0]\n",
    "        labels = label[0]\n",
    "    else: \n",
    "        break\n",
    "\n",
    "input_sentence = [idx2word[prova[i].item()] for i in range(prova.shape[0])]\n",
    "\n",
    "prova = prova.view(1,prova.shape[0])\n",
    "\n",
    "with torch.no_grad():\n",
    "    pred_label = t_classifier(prova)\n",
    "    \n",
    "pred_label = torch.softmax(pred_label, dim = -1)\n",
    "\n",
    "\n",
    "if labels == 0.0:\n",
    "    stile = 'Dante'\n",
    "elif labels == 1.0:\n",
    "    stile = 'Italiano'\n",
    "elif labels == 2.0:\n",
    "    stile = 'Napoletano'\n",
    "\n",
    "\n",
    "pred_style = torch.argmax(pred_label).item()\n",
    "print('Real Style: ', labels.item(), ', ', stile)\n",
    "print('Predicted Style: ', pred_style, 'with probability: ', pred_label[0][0][pred_style].item()*100, '%')\n",
    "print(\"Input sequence: \\n\", ' '.join(input_sentence))"
   ]
  }
 ],
 "metadata": {
  "kernelspec": {
   "display_name": "Python 3",
   "language": "python",
   "name": "python3"
  },
  "language_info": {
   "codemirror_mode": {
    "name": "ipython",
    "version": 3
   },
   "file_extension": ".py",
   "mimetype": "text/x-python",
   "name": "python",
   "nbconvert_exporter": "python",
   "pygments_lexer": "ipython3",
   "version": "3.8.10"
  }
 },
 "nbformat": 4,
 "nbformat_minor": 2
}
