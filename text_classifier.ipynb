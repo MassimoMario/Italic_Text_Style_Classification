{
 "cells": [
  {
   "cell_type": "code",
   "execution_count": 1,
   "metadata": {},
   "outputs": [],
   "source": [
    "import numpy as np\n",
    "from tqdm import tqdm\n",
    "import matplotlib.pyplot as plt\n",
    "import torch\n",
    "import torch.nn as nn\n",
    "from torch.nn import functional as F\n",
    "from torch.utils.data import DataLoader,TensorDataset\n",
    "from gensim.models import Word2Vec\n",
    "from models import CNNClassifier, RNNClassifier, GRUClassifier, LSTMClassifier, TClassifier\n",
    "from training_function import training\n",
    "from config_dataset import custom_dataset"
   ]
  },
  {
   "cell_type": "code",
   "execution_count": 2,
   "metadata": {},
   "outputs": [],
   "source": [
    "device = torch.device(\"cuda\" if torch.cuda.is_available() else \"cpu\")"
   ]
  },
  {
   "cell_type": "code",
   "execution_count": 3,
   "metadata": {},
   "outputs": [],
   "source": [
    "sequence_length = 20\n",
    "batch_size = 32\n",
    "embedding_dim = 300\n",
    "hidden_dim = 8"
   ]
  },
  {
   "cell_type": "code",
   "execution_count": 4,
   "metadata": {},
   "outputs": [
    {
     "name": "stdout",
     "output_type": "stream",
     "text": [
      "len train loader:  352\n",
      "len val loader:  44\n",
      "total number of training samples:  11248\n",
      "total number of validation samples:  1405\n",
      "vocab size:  26607\n"
     ]
    }
   ],
   "source": [
    "train_loader, val_loader, embedding_dim, embedding_matrix, word2vec, idx2word, word2idx, vocab_size, style0_test, style1_test, style2_test = custom_dataset('divina_commedia.txt',\n",
    "                                                                                                                                                        'uno_nessuno_e_i_malavoglia.txt',\n",
    "                                                                                                                                                        'lo_cunto_de_li_cunti.txt',\n",
    "                                                                                                                                                        sequence_length,\n",
    "                                                                                                                                                        embedding_dim,\n",
    "                                                                                                                                                        batch_size,\n",
    "                                                                                                                                                        0.8)\n",
    "print('len train loader: ', len(train_loader))\n",
    "print('len val loader: ', len(val_loader))\n",
    "print('total number of training samples: ', len(train_loader.dataset))\n",
    "print('total number of validation samples: ', len(val_loader.dataset))\n",
    "print('vocab size: ', vocab_size)"
   ]
  },
  {
   "cell_type": "code",
   "execution_count": 12,
   "metadata": {},
   "outputs": [
    {
     "name": "stdout",
     "output_type": "stream",
     "text": [
      "len train loader:  363\n",
      "len val loader:  46\n",
      "total number of training samples:  11606\n",
      "total number of validation samples:  1450\n",
      "vocab size:  12762\n"
     ]
    }
   ],
   "source": [
    "train_loader, val_loader, embedding_dim, embedding_matrix, word2vec, idx2word, word2idx, vocab_size, style0_test, style1_test, style2_test = custom_dataset('inferno.txt',\n",
    "                                                                                                                                                        'purgatorio.txt',\n",
    "                                                                                                                                                        'paradiso.txt',\n",
    "                                                                                                                                                        sequence_length,\n",
    "                                                                                                                                                        embedding_dim,\n",
    "                                                                                                                                                        batch_size,\n",
    "                                                                                                                                                        0.8)\n",
    "print('len train loader: ', len(train_loader))\n",
    "print('len val loader: ', len(val_loader))\n",
    "print('total number of training samples: ', len(train_loader.dataset))\n",
    "print('total number of validation samples: ', len(val_loader.dataset))\n",
    "print('vocab size: ', vocab_size)"
   ]
  },
  {
   "cell_type": "markdown",
   "metadata": {},
   "source": [
    "# CNN Classifier"
   ]
  },
  {
   "cell_type": "code",
   "execution_count": 5,
   "metadata": {},
   "outputs": [],
   "source": [
    "cnn_classifier = CNNClassifier(embedding_matrix, 3, 3, [3,3,3])"
   ]
  },
  {
   "cell_type": "code",
   "execution_count": 6,
   "metadata": {},
   "outputs": [
    {
     "name": "stdout",
     "output_type": "stream",
     "text": [
      "# Parameters:  8139\n"
     ]
    }
   ],
   "source": [
    "classifier_params = sum(p.numel() for p in cnn_classifier.parameters() if p.requires_grad)\n",
    "print('# Parameters: ', classifier_params)"
   ]
  },
  {
   "cell_type": "code",
   "execution_count": 8,
   "metadata": {},
   "outputs": [
    {
     "name": "stderr",
     "output_type": "stream",
     "text": [
      " 12%|█▎        | 1/8 [00:02<00:14,  2.09s/it]"
     ]
    },
    {
     "name": "stdout",
     "output_type": "stream",
     "text": [
      "====> Epoch: 1 Average train loss: 0.0213, Average val loss: 0.0183\n"
     ]
    },
    {
     "name": "stderr",
     "output_type": "stream",
     "text": [
      " 25%|██▌       | 2/8 [00:04<00:12,  2.03s/it]"
     ]
    },
    {
     "name": "stdout",
     "output_type": "stream",
     "text": [
      "====> Epoch: 2 Average train loss: 0.0182, Average val loss: 0.0179\n"
     ]
    },
    {
     "name": "stderr",
     "output_type": "stream",
     "text": [
      " 38%|███▊      | 3/8 [00:05<00:09,  1.89s/it]"
     ]
    },
    {
     "name": "stdout",
     "output_type": "stream",
     "text": [
      "====> Epoch: 3 Average train loss: 0.0179, Average val loss: 0.0179\n"
     ]
    },
    {
     "name": "stderr",
     "output_type": "stream",
     "text": [
      " 50%|█████     | 4/8 [00:07<00:07,  1.79s/it]"
     ]
    },
    {
     "name": "stdout",
     "output_type": "stream",
     "text": [
      "====> Epoch: 4 Average train loss: 0.0177, Average val loss: 0.0178\n"
     ]
    },
    {
     "name": "stderr",
     "output_type": "stream",
     "text": [
      " 62%|██████▎   | 5/8 [00:09<00:05,  1.71s/it]"
     ]
    },
    {
     "name": "stdout",
     "output_type": "stream",
     "text": [
      "====> Epoch: 5 Average train loss: 0.0176, Average val loss: 0.0177\n"
     ]
    },
    {
     "name": "stderr",
     "output_type": "stream",
     "text": [
      " 75%|███████▌  | 6/8 [00:10<00:03,  1.79s/it]"
     ]
    },
    {
     "name": "stdout",
     "output_type": "stream",
     "text": [
      "====> Epoch: 6 Average train loss: 0.0176, Average val loss: 0.0178\n"
     ]
    },
    {
     "name": "stderr",
     "output_type": "stream",
     "text": [
      " 88%|████████▊ | 7/8 [00:12<00:01,  1.79s/it]"
     ]
    },
    {
     "name": "stdout",
     "output_type": "stream",
     "text": [
      "====> Epoch: 7 Average train loss: 0.0175, Average val loss: 0.0177\n"
     ]
    },
    {
     "name": "stderr",
     "output_type": "stream",
     "text": [
      "100%|██████████| 8/8 [00:14<00:00,  1.79s/it]"
     ]
    },
    {
     "name": "stdout",
     "output_type": "stream",
     "text": [
      "====> Epoch: 8 Average train loss: 0.0175, Average val loss: 0.0177\n"
     ]
    },
    {
     "name": "stderr",
     "output_type": "stream",
     "text": [
      "\n"
     ]
    },
    {
     "data": {
      "image/png": "[encoded data removed]",
      "text/plain": [
       "<Figure size 640x480 with 1 Axes>"
      ]
     },
     "metadata": {},
     "output_type": "display_data"
    }
   ],
   "source": [
    "train_losses = training(cnn_classifier, train_loader, val_loader, 8, 4e-4, 'CNN Training')"
   ]
  },
  {
   "cell_type": "markdown",
   "metadata": {},
   "source": [
    "### Examples with CNN "
   ]
  },
  {
   "cell_type": "code",
   "execution_count": 143,
   "metadata": {},
   "outputs": [
    {
     "name": "stdout",
     "output_type": "stream",
     "text": [
      "Real Style:  2 ,  Napoletano\n",
      "Predicted Style:  2 with probability:  57.61168599128723 %\n",
      "Input sequence: \n",
      " io non tanto averraggio tormiento de scrastareme da sto nigro cuorpo quanto de scantoniareme da ssa bella perzona cossì dicendo\n"
     ]
    }
   ],
   "source": [
    "for i ,(data, label) in enumerate(val_loader):\n",
    "    if i == 0:\n",
    "        prova = data[0]\n",
    "        labels = label[0]\n",
    "    else: \n",
    "        break\n",
    "\n",
    "input_sentence = [idx2word[prova[i].item()] for i in range(prova.shape[0])]\n",
    "\n",
    "prova = prova.view(1,prova.shape[0])\n",
    "\n",
    "with torch.no_grad():\n",
    "    pred_label = cnn_classifier(prova)\n",
    "    \n",
    "pred_label = torch.softmax(pred_label, dim = -1)\n",
    "\n",
    "\n",
    "if labels == 0.0:\n",
    "    stile = 'Dante'\n",
    "elif labels == 1.0:\n",
    "    stile = 'Italiano'\n",
    "elif labels == 2.0:\n",
    "    stile = 'Napoletano'\n",
    "\n",
    "\n",
    "pred_style = torch.argmax(pred_label).item()\n",
    "print('Real Style: ', labels.item(), ', ', stile)\n",
    "print('Predicted Style: ', pred_style, 'with probability: ', pred_label[0][0][pred_style].item()*100, '%')\n",
    "print(\"Input sequence: \\n\", ' '.join(input_sentence))"
   ]
  },
  {
   "cell_type": "markdown",
   "metadata": {},
   "source": [
    "# CNN Classifier Accuracy"
   ]
  },
  {
   "cell_type": "code",
   "execution_count": 9,
   "metadata": {},
   "outputs": [
    {
     "name": "stdout",
     "output_type": "stream",
     "text": [
      "Accuracy predicting Dante:  0.9752212389380531\n"
     ]
    }
   ],
   "source": [
    "with torch.no_grad():\n",
    "    pred_labels = cnn_classifier(style0_test)\n",
    "\n",
    "pred_labels = torch.argmax(pred_labels,dim=-1).squeeze(0)\n",
    "\n",
    "dante_accuracy = 0\n",
    "for lab in pred_labels:\n",
    "    if lab.item() == 0:\n",
    "        dante_accuracy +=1\n",
    "\n",
    "dante_accuracy = dante_accuracy/len(style0_test)\n",
    "print('Accuracy predicting Dante: ', dante_accuracy)"
   ]
  },
  {
   "cell_type": "code",
   "execution_count": 10,
   "metadata": {},
   "outputs": [
    {
     "name": "stdout",
     "output_type": "stream",
     "text": [
      "Accuracy predicting Italian:  0.9946902654867257\n"
     ]
    }
   ],
   "source": [
    "with torch.no_grad():\n",
    "    pred_labels = cnn_classifier(style1_test)\n",
    "\n",
    "pred_labels = torch.argmax(pred_labels,dim=-1).squeeze(0)\n",
    "\n",
    "italian_accuracy = 0\n",
    "for lab in pred_labels:\n",
    "    if lab.item() == 1:\n",
    "        italian_accuracy +=1\n",
    "\n",
    "italian_accuracy = italian_accuracy/len(style1_test)\n",
    "print('Accuracy predicting Italian: ', italian_accuracy)"
   ]
  },
  {
   "cell_type": "code",
   "execution_count": 11,
   "metadata": {},
   "outputs": [
    {
     "name": "stdout",
     "output_type": "stream",
     "text": [
      "Accuracy predicting Neapolitan:  0.9964028776978417\n"
     ]
    }
   ],
   "source": [
    "with torch.no_grad():\n",
    "    pred_labels = cnn_classifier(style2_test)\n",
    "\n",
    "pred_labels = torch.argmax(pred_labels,dim=-1).squeeze(0)\n",
    "\n",
    "neapolitan_accuracy = 0\n",
    "for lab in pred_labels:\n",
    "    if lab.item() == 2:\n",
    "        neapolitan_accuracy +=1\n",
    "\n",
    "neapolitan_accuracy = neapolitan_accuracy/len(style2_test)\n",
    "print('Accuracy predicting Neapolitan: ', neapolitan_accuracy)"
   ]
  },
  {
   "cell_type": "code",
   "execution_count": 12,
   "metadata": {},
   "outputs": [
    {
     "name": "stdout",
     "output_type": "stream",
     "text": [
      "Overall CNN Accuracy:  0.9887714607075401\n"
     ]
    }
   ],
   "source": [
    "overall_accuracy = (dante_accuracy + italian_accuracy + neapolitan_accuracy)/3\n",
    "print('Overall CNN Accuracy: ', overall_accuracy)"
   ]
  },
  {
   "cell_type": "markdown",
   "metadata": {},
   "source": [
    "# RNN Classifier"
   ]
  },
  {
   "cell_type": "code",
   "execution_count": 20,
   "metadata": {},
   "outputs": [],
   "source": [
    "rnn_classifier = RNNClassifier(embedding_matrix, hidden_dim, 1)"
   ]
  },
  {
   "cell_type": "code",
   "execution_count": 21,
   "metadata": {},
   "outputs": [
    {
     "name": "stdout",
     "output_type": "stream",
     "text": [
      "# Parameters:  3107\n"
     ]
    }
   ],
   "source": [
    "classifier_params = sum(p.numel() for p in rnn_classifier.parameters() if p.requires_grad)\n",
    "print('# Parameters: ', classifier_params)"
   ]
  },
  {
   "cell_type": "code",
   "execution_count": 22,
   "metadata": {},
   "outputs": [
    {
     "name": "stderr",
     "output_type": "stream",
     "text": [
      " 10%|█         | 1/10 [00:01<00:09,  1.02s/it]"
     ]
    },
    {
     "name": "stdout",
     "output_type": "stream",
     "text": [
      "====> Epoch: 1 Average train loss: 0.0326, Average val loss: 0.0278\n"
     ]
    },
    {
     "name": "stderr",
     "output_type": "stream",
     "text": [
      " 20%|██        | 2/10 [00:02<00:08,  1.05s/it]"
     ]
    },
    {
     "name": "stdout",
     "output_type": "stream",
     "text": [
      "====> Epoch: 2 Average train loss: 0.0259, Average val loss: 0.0238\n"
     ]
    },
    {
     "name": "stderr",
     "output_type": "stream",
     "text": [
      " 30%|███       | 3/10 [00:03<00:07,  1.00s/it]"
     ]
    },
    {
     "name": "stdout",
     "output_type": "stream",
     "text": [
      "====> Epoch: 3 Average train loss: 0.0224, Average val loss: 0.0208\n"
     ]
    },
    {
     "name": "stderr",
     "output_type": "stream",
     "text": [
      " 40%|████      | 4/10 [00:03<00:05,  1.01it/s]"
     ]
    },
    {
     "name": "stdout",
     "output_type": "stream",
     "text": [
      "====> Epoch: 4 Average train loss: 0.0192, Average val loss: 0.0182\n"
     ]
    },
    {
     "name": "stderr",
     "output_type": "stream",
     "text": [
      " 50%|█████     | 5/10 [00:04<00:04,  1.05it/s]"
     ]
    },
    {
     "name": "stdout",
     "output_type": "stream",
     "text": [
      "====> Epoch: 5 Average train loss: 0.0163, Average val loss: 0.0158\n"
     ]
    },
    {
     "name": "stderr",
     "output_type": "stream",
     "text": [
      " 60%|██████    | 6/10 [00:05<00:03,  1.07it/s]"
     ]
    },
    {
     "name": "stdout",
     "output_type": "stream",
     "text": [
      "====> Epoch: 6 Average train loss: 0.0137, Average val loss: 0.0135\n"
     ]
    },
    {
     "name": "stderr",
     "output_type": "stream",
     "text": [
      " 70%|███████   | 7/10 [00:06<00:02,  1.09it/s]"
     ]
    },
    {
     "name": "stdout",
     "output_type": "stream",
     "text": [
      "====> Epoch: 7 Average train loss: 0.0111, Average val loss: 0.0104\n"
     ]
    },
    {
     "name": "stderr",
     "output_type": "stream",
     "text": [
      " 80%|████████  | 8/10 [00:07<00:01,  1.11it/s]"
     ]
    },
    {
     "name": "stdout",
     "output_type": "stream",
     "text": [
      "====> Epoch: 8 Average train loss: 0.0084, Average val loss: 0.0078\n"
     ]
    },
    {
     "name": "stderr",
     "output_type": "stream",
     "text": [
      " 90%|█████████ | 9/10 [00:08<00:00,  1.06it/s]"
     ]
    },
    {
     "name": "stdout",
     "output_type": "stream",
     "text": [
      "====> Epoch: 9 Average train loss: 0.0064, Average val loss: 0.0060\n"
     ]
    },
    {
     "name": "stderr",
     "output_type": "stream",
     "text": [
      "100%|██████████| 10/10 [00:09<00:00,  1.05it/s]"
     ]
    },
    {
     "name": "stdout",
     "output_type": "stream",
     "text": [
      "====> Epoch: 10 Average train loss: 0.0051, Average val loss: 0.0054\n"
     ]
    },
    {
     "name": "stderr",
     "output_type": "stream",
     "text": [
      "\n"
     ]
    },
    {
     "data": {
      "image/png": "[encoded data removed]",
      "text/plain": [
       "<Figure size 640x480 with 1 Axes>"
      ]
     },
     "metadata": {},
     "output_type": "display_data"
    }
   ],
   "source": [
    "train_losses = training(rnn_classifier, train_loader, val_loader, 10, 4e-4, 'RNN Training')"
   ]
  },
  {
   "cell_type": "code",
   "execution_count": 153,
   "metadata": {},
   "outputs": [
    {
     "name": "stdout",
     "output_type": "stream",
     "text": [
      "Real Style:  2 ,  Napoletano\n",
      "Predicted Style:  2 with probability:  96.19741439819336 %\n",
      "Input sequence: \n",
      " ve la dicere comme sta restava de mala voglia a sto pajese ma pocca lo cielo me l ha mannata\n"
     ]
    }
   ],
   "source": [
    "for i ,(data, label) in enumerate(val_loader):\n",
    "    if i == 0:\n",
    "        prova = data[0]\n",
    "        labels = label[0]\n",
    "    else: \n",
    "        break\n",
    "\n",
    "input_sentence = [idx2word[prova[i].item()] for i in range(prova.shape[0])]\n",
    "\n",
    "prova = prova.view(1,prova.shape[0])\n",
    "\n",
    "with torch.no_grad():\n",
    "    pred_label = rnn_classifier(prova)\n",
    "    \n",
    "pred_label = torch.softmax(pred_label, dim = -1)\n",
    "\n",
    "\n",
    "if labels == 0.0:\n",
    "    stile = 'Dante'\n",
    "elif labels == 1.0:\n",
    "    stile = 'Italiano'\n",
    "elif labels == 2.0:\n",
    "    stile = 'Napoletano'\n",
    "\n",
    "\n",
    "pred_style = torch.argmax(pred_label).item()\n",
    "print('Real Style: ', labels.item(), ', ', stile)\n",
    "print('Predicted Style: ', pred_style, 'with probability: ', pred_label[0][0][pred_style].item()*100, '%')\n",
    "print(\"Input sequence: \\n\", ' '.join(input_sentence))"
   ]
  },
  {
   "cell_type": "markdown",
   "metadata": {},
   "source": [
    "# RNN Classifier Accuracy"
   ]
  },
  {
   "cell_type": "code",
   "execution_count": 23,
   "metadata": {},
   "outputs": [
    {
     "name": "stdout",
     "output_type": "stream",
     "text": [
      "Accuracy predicting Dante:  0.9486725663716814\n"
     ]
    }
   ],
   "source": [
    "dante_accuracy = 0\n",
    "with torch.no_grad():\n",
    "    for data in style0_test:\n",
    "        pred_label = rnn_classifier(data)\n",
    "        if torch.argmax(pred_label).item() == 0:\n",
    "            dante_accuracy += 1\n",
    "    \n",
    "dante_accuracy = dante_accuracy/len(style0_test)\n",
    "print('Accuracy predicting Dante: ', dante_accuracy)"
   ]
  },
  {
   "cell_type": "code",
   "execution_count": 24,
   "metadata": {},
   "outputs": [
    {
     "name": "stdout",
     "output_type": "stream",
     "text": [
      "Accuracy predicting Dante:  0.9610619469026549\n"
     ]
    }
   ],
   "source": [
    "italian_accuracy = 0\n",
    "with torch.no_grad():\n",
    "    for data in style1_test:\n",
    "        pred_label = rnn_classifier(data)\n",
    "        if torch.argmax(pred_label).item() == 1:\n",
    "            italian_accuracy += 1\n",
    "    \n",
    "italian_accuracy = italian_accuracy/len(style1_test)\n",
    "print('Accuracy predicting Dante: ', italian_accuracy)"
   ]
  },
  {
   "cell_type": "code",
   "execution_count": 25,
   "metadata": {},
   "outputs": [
    {
     "name": "stdout",
     "output_type": "stream",
     "text": [
      "Accuracy predicting Dante:  0.9280575539568345\n"
     ]
    }
   ],
   "source": [
    "neapolitan_accuracy = 0\n",
    "with torch.no_grad():\n",
    "    for data in style2_test:\n",
    "        pred_label = rnn_classifier(data)\n",
    "        if torch.argmax(pred_label).item() == 2:\n",
    "            neapolitan_accuracy += 1\n",
    "    \n",
    "neapolitan_accuracy = neapolitan_accuracy/len(style2_test)\n",
    "print('Accuracy predicting Dante: ', neapolitan_accuracy)"
   ]
  },
  {
   "cell_type": "code",
   "execution_count": 26,
   "metadata": {},
   "outputs": [
    {
     "name": "stdout",
     "output_type": "stream",
     "text": [
      "Overall RNN Accuracy:  0.9459306890770569\n"
     ]
    }
   ],
   "source": [
    "overall_accuracy = (dante_accuracy + italian_accuracy + neapolitan_accuracy)/3\n",
    "print('Overall RNN Accuracy: ', overall_accuracy)"
   ]
  },
  {
   "cell_type": "markdown",
   "metadata": {},
   "source": [
    "# GRU Classifier"
   ]
  },
  {
   "cell_type": "code",
   "execution_count": 55,
   "metadata": {},
   "outputs": [],
   "source": [
    "gru_classifier = GRUClassifier(embedding_matrix, hidden_dim, 1)"
   ]
  },
  {
   "cell_type": "code",
   "execution_count": 56,
   "metadata": {},
   "outputs": [
    {
     "name": "stdout",
     "output_type": "stream",
     "text": [
      "# Parameters:  8067\n"
     ]
    }
   ],
   "source": [
    "classifier_params = sum(p.numel() for p in gru_classifier.parameters() if p.requires_grad)\n",
    "print('# Parameters: ', classifier_params)"
   ]
  },
  {
   "cell_type": "code",
   "execution_count": 57,
   "metadata": {},
   "outputs": [
    {
     "name": "stderr",
     "output_type": "stream",
     "text": [
      " 10%|█         | 1/10 [00:01<00:17,  1.92s/it]"
     ]
    },
    {
     "name": "stdout",
     "output_type": "stream",
     "text": [
      "====> Epoch: 1 Average train loss: 0.0283, Average val loss: 0.0224\n"
     ]
    },
    {
     "name": "stderr",
     "output_type": "stream",
     "text": [
      " 20%|██        | 2/10 [00:03<00:15,  1.92s/it]"
     ]
    },
    {
     "name": "stdout",
     "output_type": "stream",
     "text": [
      "====> Epoch: 2 Average train loss: 0.0180, Average val loss: 0.0145\n"
     ]
    },
    {
     "name": "stderr",
     "output_type": "stream",
     "text": [
      " 30%|███       | 3/10 [00:05<00:12,  1.81s/it]"
     ]
    },
    {
     "name": "stdout",
     "output_type": "stream",
     "text": [
      "====> Epoch: 3 Average train loss: 0.0111, Average val loss: 0.0093\n"
     ]
    },
    {
     "name": "stderr",
     "output_type": "stream",
     "text": [
      " 40%|████      | 4/10 [00:07<00:10,  1.77s/it]"
     ]
    },
    {
     "name": "stdout",
     "output_type": "stream",
     "text": [
      "====> Epoch: 4 Average train loss: 0.0069, Average val loss: 0.0063\n"
     ]
    },
    {
     "name": "stderr",
     "output_type": "stream",
     "text": [
      " 50%|█████     | 5/10 [00:08<00:08,  1.73s/it]"
     ]
    },
    {
     "name": "stdout",
     "output_type": "stream",
     "text": [
      "====> Epoch: 5 Average train loss: 0.0046, Average val loss: 0.0046\n"
     ]
    },
    {
     "name": "stderr",
     "output_type": "stream",
     "text": [
      " 60%|██████    | 6/10 [00:10<00:07,  1.75s/it]"
     ]
    },
    {
     "name": "stdout",
     "output_type": "stream",
     "text": [
      "====> Epoch: 6 Average train loss: 0.0033, Average val loss: 0.0036\n"
     ]
    },
    {
     "name": "stderr",
     "output_type": "stream",
     "text": [
      " 70%|███████   | 7/10 [00:12<00:05,  1.74s/it]"
     ]
    },
    {
     "name": "stdout",
     "output_type": "stream",
     "text": [
      "====> Epoch: 7 Average train loss: 0.0026, Average val loss: 0.0031\n"
     ]
    },
    {
     "name": "stderr",
     "output_type": "stream",
     "text": [
      " 80%|████████  | 8/10 [00:14<00:03,  1.72s/it]"
     ]
    },
    {
     "name": "stdout",
     "output_type": "stream",
     "text": [
      "====> Epoch: 8 Average train loss: 0.0020, Average val loss: 0.0028\n"
     ]
    },
    {
     "name": "stderr",
     "output_type": "stream",
     "text": [
      " 90%|█████████ | 9/10 [00:15<00:01,  1.70s/it]"
     ]
    },
    {
     "name": "stdout",
     "output_type": "stream",
     "text": [
      "====> Epoch: 9 Average train loss: 0.0016, Average val loss: 0.0030\n"
     ]
    },
    {
     "name": "stderr",
     "output_type": "stream",
     "text": [
      "100%|██████████| 10/10 [00:17<00:00,  1.74s/it]"
     ]
    },
    {
     "name": "stdout",
     "output_type": "stream",
     "text": [
      "====> Epoch: 10 Average train loss: 0.0013, Average val loss: 0.0025\n"
     ]
    },
    {
     "name": "stderr",
     "output_type": "stream",
     "text": [
      "\n"
     ]
    },
    {
     "data": {
      "image/png": "[encoded data removed]",
      "text/plain": [
       "<Figure size 640x480 with 1 Axes>"
      ]
     },
     "metadata": {},
     "output_type": "display_data"
    }
   ],
   "source": [
    "train_losses = training(gru_classifier, train_loader, val_loader, 10, 4e-4, 'GRU Training')"
   ]
  },
  {
   "cell_type": "code",
   "execution_count": 154,
   "metadata": {},
   "outputs": [
    {
     "name": "stdout",
     "output_type": "stream",
     "text": [
      "Real Style:  0 ,  Dante\n",
      "Predicted Style:  0 with probability:  99.8595654964447 %\n",
      "Input sequence: \n",
      " parente già era l caponsacco nel mercato disceso giù da fiesole e già era buon cittadino giuda e infangato io\n"
     ]
    }
   ],
   "source": [
    "for i ,(data, label) in enumerate(val_loader):\n",
    "    if i == 0:\n",
    "        prova = data[0]\n",
    "        labels = label[0]\n",
    "    else: \n",
    "        break\n",
    "\n",
    "input_sentence = [idx2word[prova[i].item()] for i in range(prova.shape[0])]\n",
    "\n",
    "prova = prova.view(1,prova.shape[0])\n",
    "\n",
    "with torch.no_grad():\n",
    "    pred_label = gru_classifier(prova)\n",
    "    \n",
    "pred_label = torch.softmax(pred_label, dim = -1)\n",
    "\n",
    "\n",
    "if labels == 0.0:\n",
    "    stile = 'Dante'\n",
    "elif labels == 1.0:\n",
    "    stile = 'Italiano'\n",
    "elif labels == 2.0:\n",
    "    stile = 'Napoletano'\n",
    "\n",
    "\n",
    "pred_style = torch.argmax(pred_label).item()\n",
    "print('Real Style: ', labels.item(), ', ', stile)\n",
    "print('Predicted Style: ', pred_style, 'with probability: ', pred_label[0][0][pred_style].item()*100, '%')\n",
    "print(\"Input sequence: \\n\", ' '.join(input_sentence))"
   ]
  },
  {
   "cell_type": "markdown",
   "metadata": {},
   "source": [
    "# GRU Classifier Accuracy"
   ]
  },
  {
   "cell_type": "code",
   "execution_count": 58,
   "metadata": {},
   "outputs": [
    {
     "name": "stdout",
     "output_type": "stream",
     "text": [
      "Accuracy predicting Dante:  0.9787610619469026\n"
     ]
    }
   ],
   "source": [
    "dante_accuracy = 0\n",
    "with torch.no_grad():\n",
    "    for data in style0_test:\n",
    "        pred_label = gru_classifier(data)\n",
    "        if torch.argmax(pred_label, dim=-1).item() == 0:\n",
    "            dante_accuracy += 1\n",
    "    \n",
    "dante_accuracy = dante_accuracy/len(style0_test)\n",
    "print('Accuracy predicting Dante: ', dante_accuracy)"
   ]
  },
  {
   "cell_type": "code",
   "execution_count": 59,
   "metadata": {},
   "outputs": [
    {
     "name": "stdout",
     "output_type": "stream",
     "text": [
      "Accuracy predicting Dante:  0.9823008849557522\n"
     ]
    }
   ],
   "source": [
    "italian_accuracy = 0\n",
    "with torch.no_grad():\n",
    "    for data in style1_test:\n",
    "        pred_label = gru_classifier(data)\n",
    "        if torch.argmax(pred_label, dim = -1).item() == 1:\n",
    "            italian_accuracy += 1\n",
    "    \n",
    "italian_accuracy = italian_accuracy/len(style1_test)\n",
    "print('Accuracy predicting Dante: ', italian_accuracy)"
   ]
  },
  {
   "cell_type": "code",
   "execution_count": 60,
   "metadata": {},
   "outputs": [
    {
     "name": "stdout",
     "output_type": "stream",
     "text": [
      "Accuracy predicting Dante:  0.9820143884892086\n"
     ]
    }
   ],
   "source": [
    "neapolitan_accuracy = 0\n",
    "with torch.no_grad():\n",
    "    for data in style2_test:\n",
    "        pred_label = gru_classifier(data)\n",
    "        if torch.argmax(pred_label, dim = -1).item() == 2:\n",
    "            neapolitan_accuracy += 1\n",
    "    \n",
    "neapolitan_accuracy = neapolitan_accuracy/len(style2_test)\n",
    "print('Accuracy predicting Dante: ', neapolitan_accuracy)"
   ]
  },
  {
   "cell_type": "code",
   "execution_count": 61,
   "metadata": {},
   "outputs": [
    {
     "name": "stdout",
     "output_type": "stream",
     "text": [
      "Overall GRU Accuracy:  0.9810254451306212\n"
     ]
    }
   ],
   "source": [
    "overall_accuracy = (dante_accuracy + italian_accuracy + neapolitan_accuracy)/3\n",
    "print('Overall GRU Accuracy: ', overall_accuracy)"
   ]
  },
  {
   "cell_type": "markdown",
   "metadata": {},
   "source": [
    "# LSTM Classifier"
   ]
  },
  {
   "cell_type": "code",
   "execution_count": 62,
   "metadata": {},
   "outputs": [],
   "source": [
    "lstm_classifier = LSTMClassifier(embedding_matrix, hidden_dim, 1)"
   ]
  },
  {
   "cell_type": "code",
   "execution_count": 63,
   "metadata": {},
   "outputs": [
    {
     "name": "stdout",
     "output_type": "stream",
     "text": [
      "# Parameters:  10547\n"
     ]
    }
   ],
   "source": [
    "classifier_params = sum(p.numel() for p in lstm_classifier.parameters() if p.requires_grad)\n",
    "print('# Parameters: ', classifier_params)"
   ]
  },
  {
   "cell_type": "code",
   "execution_count": 64,
   "metadata": {},
   "outputs": [
    {
     "name": "stderr",
     "output_type": "stream",
     "text": [
      " 10%|█         | 1/10 [00:01<00:09,  1.08s/it]"
     ]
    },
    {
     "name": "stdout",
     "output_type": "stream",
     "text": [
      "====> Epoch: 1 Average train loss: 0.0295, Average val loss: 0.0203\n"
     ]
    },
    {
     "name": "stderr",
     "output_type": "stream",
     "text": [
      " 20%|██        | 2/10 [00:02<00:08,  1.03s/it]"
     ]
    },
    {
     "name": "stdout",
     "output_type": "stream",
     "text": [
      "====> Epoch: 2 Average train loss: 0.0105, Average val loss: 0.0049\n"
     ]
    },
    {
     "name": "stderr",
     "output_type": "stream",
     "text": [
      " 30%|███       | 3/10 [00:02<00:06,  1.04it/s]"
     ]
    },
    {
     "name": "stdout",
     "output_type": "stream",
     "text": [
      "====> Epoch: 3 Average train loss: 0.0036, Average val loss: 0.0027\n"
     ]
    },
    {
     "name": "stderr",
     "output_type": "stream",
     "text": [
      " 40%|████      | 4/10 [00:03<00:05,  1.10it/s]"
     ]
    },
    {
     "name": "stdout",
     "output_type": "stream",
     "text": [
      "====> Epoch: 4 Average train loss: 0.0022, Average val loss: 0.0021\n"
     ]
    },
    {
     "name": "stderr",
     "output_type": "stream",
     "text": [
      " 50%|█████     | 5/10 [00:04<00:04,  1.15it/s]"
     ]
    },
    {
     "name": "stdout",
     "output_type": "stream",
     "text": [
      "====> Epoch: 5 Average train loss: 0.0016, Average val loss: 0.0018\n"
     ]
    },
    {
     "name": "stderr",
     "output_type": "stream",
     "text": [
      " 60%|██████    | 6/10 [00:05<00:03,  1.19it/s]"
     ]
    },
    {
     "name": "stdout",
     "output_type": "stream",
     "text": [
      "====> Epoch: 6 Average train loss: 0.0012, Average val loss: 0.0019\n"
     ]
    },
    {
     "name": "stderr",
     "output_type": "stream",
     "text": [
      " 70%|███████   | 7/10 [00:06<00:02,  1.21it/s]"
     ]
    },
    {
     "name": "stdout",
     "output_type": "stream",
     "text": [
      "====> Epoch: 7 Average train loss: 0.0010, Average val loss: 0.0015\n"
     ]
    },
    {
     "name": "stderr",
     "output_type": "stream",
     "text": [
      " 80%|████████  | 8/10 [00:06<00:01,  1.23it/s]"
     ]
    },
    {
     "name": "stdout",
     "output_type": "stream",
     "text": [
      "====> Epoch: 8 Average train loss: 0.0009, Average val loss: 0.0017\n"
     ]
    },
    {
     "name": "stderr",
     "output_type": "stream",
     "text": [
      " 90%|█████████ | 9/10 [00:07<00:00,  1.19it/s]"
     ]
    },
    {
     "name": "stdout",
     "output_type": "stream",
     "text": [
      "====> Epoch: 9 Average train loss: 0.0007, Average val loss: 0.0017\n"
     ]
    },
    {
     "name": "stderr",
     "output_type": "stream",
     "text": [
      "100%|██████████| 10/10 [00:08<00:00,  1.15it/s]"
     ]
    },
    {
     "name": "stdout",
     "output_type": "stream",
     "text": [
      "====> Epoch: 10 Average train loss: 0.0006, Average val loss: 0.0016\n"
     ]
    },
    {
     "name": "stderr",
     "output_type": "stream",
     "text": [
      "\n"
     ]
    },
    {
     "data": {
      "image/png": "[encoded data removed]",
      "text/plain": [
       "<Figure size 640x480 with 1 Axes>"
      ]
     },
     "metadata": {},
     "output_type": "display_data"
    }
   ],
   "source": [
    "train_losses = training(lstm_classifier, train_loader, val_loader, 10, 4e-4, 'LSTM Training')"
   ]
  },
  {
   "cell_type": "code",
   "execution_count": 159,
   "metadata": {},
   "outputs": [
    {
     "name": "stdout",
     "output_type": "stream",
     "text": [
      "Real Style:  0 ,  Dante\n",
      "Predicted Style:  0 with probability:  99.85785484313965 %\n",
      "Input sequence: \n",
      " menti non capere in triangol due ottusi così vedi le cose contingenti anzi che sieno in sè mirando il punto\n"
     ]
    }
   ],
   "source": [
    "for i ,(data, label) in enumerate(val_loader):\n",
    "    if i == 0:\n",
    "        prova = data[0]\n",
    "        labels = label[0]\n",
    "    else: \n",
    "        break\n",
    "\n",
    "input_sentence = [idx2word[prova[i].item()] for i in range(prova.shape[0])]\n",
    "\n",
    "prova = prova.view(1,prova.shape[0])\n",
    "\n",
    "with torch.no_grad():\n",
    "    pred_label = lstm_classifier(prova)\n",
    "    \n",
    "pred_label = torch.softmax(pred_label, dim = -1)\n",
    "\n",
    "\n",
    "if labels == 0.0:\n",
    "    stile = 'Dante'\n",
    "elif labels == 1.0:\n",
    "    stile = 'Italiano'\n",
    "elif labels == 2.0:\n",
    "    stile = 'Napoletano'\n",
    "\n",
    "\n",
    "pred_style = torch.argmax(pred_label).item()\n",
    "print('Real Style: ', labels.item(), ', ', stile)\n",
    "print('Predicted Style: ', pred_style, 'with probability: ', pred_label[0][0][pred_style].item()*100, '%')\n",
    "print(\"Input sequence: \\n\", ' '.join(input_sentence))"
   ]
  },
  {
   "cell_type": "code",
   "execution_count": 65,
   "metadata": {},
   "outputs": [
    {
     "name": "stdout",
     "output_type": "stream",
     "text": [
      "Accuracy predicting Dante:  0.9893805309734514\n"
     ]
    }
   ],
   "source": [
    "dante_accuracy = 0\n",
    "with torch.no_grad():\n",
    "    for data in style0_test:\n",
    "        pred_label = lstm_classifier(data)\n",
    "        if torch.argmax(pred_label).item() == 0:\n",
    "            dante_accuracy += 1\n",
    "    \n",
    "dante_accuracy = dante_accuracy/len(style0_test)\n",
    "print('Accuracy predicting Dante: ', dante_accuracy)"
   ]
  },
  {
   "cell_type": "code",
   "execution_count": 66,
   "metadata": {},
   "outputs": [
    {
     "name": "stdout",
     "output_type": "stream",
     "text": [
      "Accuracy predicting Dante:  0.9893805309734514\n"
     ]
    }
   ],
   "source": [
    "italian_accuracy = 0\n",
    "with torch.no_grad():\n",
    "    for data in style1_test:\n",
    "        pred_label = lstm_classifier(data)\n",
    "        if torch.argmax(pred_label).item() == 1:\n",
    "            italian_accuracy += 1\n",
    "    \n",
    "italian_accuracy = italian_accuracy/len(style1_test)\n",
    "print('Accuracy predicting Dante: ', italian_accuracy)"
   ]
  },
  {
   "cell_type": "code",
   "execution_count": 67,
   "metadata": {},
   "outputs": [
    {
     "name": "stdout",
     "output_type": "stream",
     "text": [
      "Accuracy predicting Dante:  0.9856115107913669\n"
     ]
    }
   ],
   "source": [
    "neapolitan_accuracy = 0\n",
    "with torch.no_grad():\n",
    "    for data in style2_test:\n",
    "        pred_label = lstm_classifier(data)\n",
    "        if torch.argmax(pred_label).item() == 2:\n",
    "            neapolitan_accuracy += 1\n",
    "    \n",
    "neapolitan_accuracy = neapolitan_accuracy/len(style2_test)\n",
    "print('Accuracy predicting Dante: ', neapolitan_accuracy)"
   ]
  },
  {
   "cell_type": "code",
   "execution_count": 68,
   "metadata": {},
   "outputs": [
    {
     "name": "stdout",
     "output_type": "stream",
     "text": [
      "Overall LSTM Accuracy:  0.9881241909127566\n"
     ]
    }
   ],
   "source": [
    "overall_accuracy = (dante_accuracy + italian_accuracy + neapolitan_accuracy)/3\n",
    "print('Overall LSTM Accuracy: ', overall_accuracy)"
   ]
  },
  {
   "cell_type": "markdown",
   "metadata": {},
   "source": [
    "# Transformer Classifier"
   ]
  },
  {
   "cell_type": "code",
   "execution_count": 48,
   "metadata": {},
   "outputs": [],
   "source": [
    "t_classifier = TClassifier(embedding_matrix, hidden_dim, 1)"
   ]
  },
  {
   "cell_type": "code",
   "execution_count": 49,
   "metadata": {},
   "outputs": [
    {
     "name": "stdout",
     "output_type": "stream",
     "text": [
      "# Parameters:  3188599\n"
     ]
    }
   ],
   "source": [
    "classifier_params = sum(p.numel() for p in t_classifier.parameters() if p.requires_grad)\n",
    "print('# Parameters: ', classifier_params)"
   ]
  },
  {
   "cell_type": "code",
   "execution_count": 50,
   "metadata": {},
   "outputs": [
    {
     "name": "stderr",
     "output_type": "stream",
     "text": [
      " 20%|██        | 1/5 [00:15<01:03, 15.91s/it]"
     ]
    },
    {
     "name": "stdout",
     "output_type": "stream",
     "text": [
      "====> Epoch: 1 Average train loss: 0.0016, Average val loss: 0.0007\n"
     ]
    },
    {
     "name": "stderr",
     "output_type": "stream",
     "text": [
      " 40%|████      | 2/5 [00:31<00:47, 15.76s/it]"
     ]
    },
    {
     "name": "stdout",
     "output_type": "stream",
     "text": [
      "====> Epoch: 2 Average train loss: 0.0006, Average val loss: 0.0007\n"
     ]
    },
    {
     "name": "stderr",
     "output_type": "stream",
     "text": [
      " 60%|██████    | 3/5 [00:47<00:31, 15.67s/it]"
     ]
    },
    {
     "name": "stdout",
     "output_type": "stream",
     "text": [
      "====> Epoch: 3 Average train loss: 0.0002, Average val loss: 0.0009\n"
     ]
    },
    {
     "name": "stderr",
     "output_type": "stream",
     "text": [
      " 80%|████████  | 4/5 [01:02<00:15, 15.70s/it]"
     ]
    },
    {
     "name": "stdout",
     "output_type": "stream",
     "text": [
      "====> Epoch: 4 Average train loss: 0.0001, Average val loss: 0.0011\n"
     ]
    },
    {
     "name": "stderr",
     "output_type": "stream",
     "text": [
      "100%|██████████| 5/5 [01:18<00:00, 15.71s/it]"
     ]
    },
    {
     "name": "stdout",
     "output_type": "stream",
     "text": [
      "====> Epoch: 5 Average train loss: 0.0001, Average val loss: 0.0013\n"
     ]
    },
    {
     "name": "stderr",
     "output_type": "stream",
     "text": [
      "\n"
     ]
    },
    {
     "data": {
      "image/png": "[encoded data removed]",
      "text/plain": [
       "<Figure size 640x480 with 1 Axes>"
      ]
     },
     "metadata": {},
     "output_type": "display_data"
    }
   ],
   "source": [
    "train_losses = training(t_classifier, train_loader, val_loader, 5, 4e-4, 'Transformer Training')"
   ]
  },
  {
   "cell_type": "code",
   "execution_count": 164,
   "metadata": {},
   "outputs": [
    {
     "name": "stdout",
     "output_type": "stream",
     "text": [
      "Real Style:  0 ,  Dante\n",
      "Predicted Style:  0 with probability:  99.9979019165039 %\n",
      "Input sequence: \n",
      " t eran possenti il nome del bel fior ch io sempre invoco e mane e sera tutto mi ristrinse l\n"
     ]
    }
   ],
   "source": [
    "for i ,(data, label) in enumerate(val_loader):\n",
    "    if i == 0:\n",
    "        prova = data[0]\n",
    "        labels = label[0]\n",
    "    else: \n",
    "        break\n",
    "\n",
    "input_sentence = [idx2word[prova[i].item()] for i in range(prova.shape[0])]\n",
    "\n",
    "prova = prova.view(1,prova.shape[0])\n",
    "\n",
    "with torch.no_grad():\n",
    "    pred_label = t_classifier(prova)\n",
    "    \n",
    "pred_label = torch.softmax(pred_label, dim = -1)\n",
    "\n",
    "\n",
    "if labels == 0.0:\n",
    "    stile = 'Dante'\n",
    "elif labels == 1.0:\n",
    "    stile = 'Italiano'\n",
    "elif labels == 2.0:\n",
    "    stile = 'Napoletano'\n",
    "\n",
    "\n",
    "pred_style = torch.argmax(pred_label).item()\n",
    "print('Real Style: ', labels.item(), ', ', stile)\n",
    "print('Predicted Style: ', pred_style, 'with probability: ', pred_label[0][0][pred_style].item()*100, '%')\n",
    "print(\"Input sequence: \\n\", ' '.join(input_sentence))"
   ]
  },
  {
   "cell_type": "markdown",
   "metadata": {},
   "source": [
    "# Transformer Classifier Accuracy"
   ]
  },
  {
   "cell_type": "code",
   "execution_count": 51,
   "metadata": {},
   "outputs": [
    {
     "name": "stdout",
     "output_type": "stream",
     "text": [
      "Accuracy predicting Dante:  0.9858407079646018\n"
     ]
    }
   ],
   "source": [
    "with torch.no_grad():\n",
    "    pred_labels = t_classifier(style0_test)\n",
    "\n",
    "pred_labels = torch.argmax(pred_labels,dim=-1).squeeze(0)\n",
    "\n",
    "dante_accuracy = 0\n",
    "for lab in pred_labels:\n",
    "    if lab.item() == 0:\n",
    "        dante_accuracy +=1\n",
    "\n",
    "dante_accuracy = dante_accuracy/len(style0_test)\n",
    "print('Accuracy predicting Dante: ', dante_accuracy)"
   ]
  },
  {
   "cell_type": "code",
   "execution_count": 52,
   "metadata": {},
   "outputs": [
    {
     "name": "stdout",
     "output_type": "stream",
     "text": [
      "Accuracy predicting Italian:  0.9964601769911504\n"
     ]
    }
   ],
   "source": [
    "with torch.no_grad():\n",
    "    pred_labels = t_classifier(style1_test)\n",
    "\n",
    "pred_labels = torch.argmax(pred_labels,dim=-1).squeeze(0)\n",
    "\n",
    "italian_accuracy = 0\n",
    "for lab in pred_labels:\n",
    "    if lab.item() == 1:\n",
    "        italian_accuracy +=1\n",
    "\n",
    "italian_accuracy = italian_accuracy/len(style1_test)\n",
    "print('Accuracy predicting Italian: ', italian_accuracy)"
   ]
  },
  {
   "cell_type": "code",
   "execution_count": 53,
   "metadata": {},
   "outputs": [
    {
     "name": "stdout",
     "output_type": "stream",
     "text": [
      "Accuracy predicting Neapolitan:  1.0\n"
     ]
    }
   ],
   "source": [
    "with torch.no_grad():\n",
    "    pred_labels = t_classifier(style2_test)\n",
    "\n",
    "pred_labels = torch.argmax(pred_labels,dim=-1).squeeze(0)\n",
    "\n",
    "neapolitan_accuracy = 0\n",
    "for lab in pred_labels:\n",
    "    if lab.item() == 2:\n",
    "        neapolitan_accuracy +=1\n",
    "\n",
    "neapolitan_accuracy = neapolitan_accuracy/len(style2_test)\n",
    "print('Accuracy predicting Neapolitan: ', neapolitan_accuracy)"
   ]
  },
  {
   "cell_type": "code",
   "execution_count": 54,
   "metadata": {},
   "outputs": [
    {
     "name": "stdout",
     "output_type": "stream",
     "text": [
      "Overall Transformer Accuracy:  0.9941002949852508\n"
     ]
    }
   ],
   "source": [
    "overall_accuracy = (dante_accuracy + italian_accuracy + neapolitan_accuracy)/3\n",
    "print('Overall Transformer Accuracy: ', overall_accuracy)"
   ]
  },
  {
   "cell_type": "code",
   "execution_count": null,
   "metadata": {},
   "outputs": [],
   "source": []
  }
 ],
 "metadata": {
  "kernelspec": {
   "display_name": "Python 3",
   "language": "python",
   "name": "python3"
  },
  "language_info": {
   "codemirror_mode": {
    "name": "ipython",
    "version": 3
   },
   "file_extension": ".py",
   "mimetype": "text/x-python",
   "name": "python",
   "nbconvert_exporter": "python",
   "pygments_lexer": "ipython3",
   "version": "3.8.10"
  }
 },
 "nbformat": 4,
 "nbformat_minor": 2
}
